{
  "nbformat": 4,
  "nbformat_minor": 0,
  "metadata": {
    "colab": {
      "name": "netflix-shows-analysis.ipynb",
      "provenance": [],
      "collapsed_sections": [
        "1Fj14J6uQ77Y",
        "lawYH-dAQ78P",
        "TT8TJ3BGQ78o",
        "VIozTkGxQ79E"
      ],
      "include_colab_link": true
    },
    "kernelspec": {
      "display_name": "Python 3",
      "language": "python",
      "name": "python3"
    },
    "language_info": {
      "codemirror_mode": {
        "name": "ipython",
        "version": 3
      },
      "file_extension": ".py",
      "mimetype": "text/x-python",
      "name": "python",
      "nbconvert_exporter": "python",
      "pygments_lexer": "ipython3",
      "version": "3.8.5"
    }
  },
  "cells": [
    {
      "cell_type": "markdown",
      "metadata": {
        "id": "view-in-github",
        "colab_type": "text"
      },
      "source": [
        "<a href=\"https://colab.research.google.com/github/TanTheta11/Netflix-analysis/blob/main/netflix_shows_analysis.ipynb\" target=\"_parent\"><img src=\"https://colab.research.google.com/assets/colab-badge.svg\" alt=\"Open In Colab\"/></a>"
      ]
    },
    {
      "cell_type": "code",
      "metadata": {
        "id": "5XOP_bc22O6u"
      },
      "source": [
        "# Jovian Commit Essentials\n",
        "# Please retain and execute this cell without modifying the contents for `jovian.commit` to work\n",
        "!pip install jovian --upgrade -q\n",
        "import jovian\n",
        "jovian.utils.colab.set_colab_file_id('1J4jM8uo-SF-KnpRRr4wiz7I6-hlOXu2i')"
      ],
      "execution_count": null,
      "outputs": []
    },
    {
      "cell_type": "markdown",
      "metadata": {
        "id": "OiLkEVSHQ73Y"
      },
      "source": [
        "# Netflix an(alytics)d Chill\n",
        "\n",
        "\n",
        "\n",
        "Recent times have witnessed a rise in the use of *OTT platforms* for catering to the entertainment needs of viewers. A stable internet connection and a subscription to one's desired online platform is all you need to treat yourself to a movie or a web series of your choice.\n",
        "\n",
        "**Netflix** is one of the most popular names on the list of trending OTT platforms. In this project, we'll be looking at some of Netflix's Statistics and gain some insight on the same. We'll be using a [.csv file](https://www.kaggle.com/shivamb/netflix-shows) from [Kaggle](https://www.kaggle.com) for the same.\n",
        "\n",
        "\n",
        "We'll be using the following Python Libraries for the analysis: \n",
        "* numpy\n",
        "* pandas\n",
        "* matplotlib\n",
        "* Seaborn\n",
        "\n",
        "I'll be implementing the concepts i have learnt from the course [Data Analysis with Python: Zero to Pandas](zerotopandas.com) in this project."
      ]
    },
    {
      "cell_type": "markdown",
      "metadata": {
        "id": "ctv6FPkrQ73b"
      },
      "source": [
        "## Downloading the Dataset\n",
        "\n",
        "\n",
        "\n",
        "Let's download the dataset and explore the contents of the files. We will be using the [Netflix Movies and TV Shows](https://www.kaggle.com/shivamb/netflix-shows) dataset from [Kaggle](https://www.kaggle.com). \n",
        "\n",
        "We will be using Python's `opendatasets` library to download the dataset."
      ]
    },
    {
      "cell_type": "code",
      "metadata": {
        "id": "l6Kip7gTMxqt"
      },
      "source": [
        "!pip install opendatasets --upgrade -q"
      ],
      "execution_count": null,
      "outputs": []
    },
    {
      "cell_type": "code",
      "metadata": {
        "id": "U36jRfOIQ73f",
        "colab": {
          "base_uri": "https://localhost:8080/",
          "height": 119
        },
        "outputId": "b09dd55e-a4a5-4d5a-984c-127fae26698f"
      },
      "source": [
        "import opendatasets as od\n",
        "dataset_url = 'https://www.kaggle.com/shivamb/netflix-shows'\n",
        "od.download('https://www.kaggle.com/shivamb/netflix-shows')"
      ],
      "execution_count": null,
      "outputs": [
        {
          "output_type": "stream",
          "text": [
            "Please provide your Kaggle credentials to download this dataset. Learn more: http://bit.ly/kaggle-creds\n",
            "Your Kaggle username: tanhasanthosh\n",
            "Your Kaggle Key: ··········\n"
          ],
          "name": "stdout"
        },
        {
          "output_type": "stream",
          "text": [
            "100%|██████████| 971k/971k [00:00<00:00, 53.7MB/s]"
          ],
          "name": "stderr"
        },
        {
          "output_type": "stream",
          "text": [
            "Downloading netflix-shows.zip to ./netflix-shows\n",
            "\n"
          ],
          "name": "stdout"
        },
        {
          "output_type": "stream",
          "text": [
            "\n"
          ],
          "name": "stderr"
        }
      ]
    },
    {
      "cell_type": "markdown",
      "metadata": {
        "id": "dLT_lAY6SnQX"
      },
      "source": [
        "The dataset has been downlaoded and extracted."
      ]
    },
    {
      "cell_type": "code",
      "metadata": {
        "id": "fCPs5C6uQ73q"
      },
      "source": [
        "data_dir = './netflix-shows'"
      ],
      "execution_count": null,
      "outputs": []
    },
    {
      "cell_type": "markdown",
      "metadata": {
        "id": "MFe8UDFwSwyj"
      },
      "source": [
        "Let's check if the downloaded file exists in the directory."
      ]
    },
    {
      "cell_type": "code",
      "metadata": {
        "id": "741Tw3ksQ73x",
        "colab": {
          "base_uri": "https://localhost:8080/",
          "height": 34
        },
        "outputId": "cbcb34f8-7c46-41e4-83a9-ed6b4108573e"
      },
      "source": [
        "import os\n",
        "os.listdir(data_dir)"
      ],
      "execution_count": null,
      "outputs": [
        {
          "output_type": "execute_result",
          "data": {
            "text/plain": [
              "['netflix_titles.csv']"
            ]
          },
          "metadata": {
            "tags": []
          },
          "execution_count": 6
        }
      ]
    },
    {
      "cell_type": "markdown",
      "metadata": {
        "id": "zIxB-yuFQ749"
      },
      "source": [
        "## Data Preparation and Cleaning\n",
        "We'll now explore the contents of the .`csv` file using the `Pandas` library.\n",
        "\n"
      ]
    },
    {
      "cell_type": "code",
      "metadata": {
        "id": "x2_HwdMRQ75A"
      },
      "source": [
        "import pandas as pd"
      ],
      "execution_count": null,
      "outputs": []
    },
    {
      "cell_type": "markdown",
      "metadata": {
        "id": "7nC3Pu66nzyV"
      },
      "source": [
        "Let's store the unprocessed csv files as a raw file."
      ]
    },
    {
      "cell_type": "code",
      "metadata": {
        "id": "E0Fn08xrrQWQ",
        "colab": {
          "base_uri": "https://localhost:8080/",
          "height": 980
        },
        "outputId": "0859e4ac-0aee-4f2f-a6a0-d80cc950bd68"
      },
      "source": [
        "netflix_raw = pd.read_csv('./netflix-shows/netflix_titles.csv')\n",
        "netflix_raw"
      ],
      "execution_count": null,
      "outputs": [
        {
          "output_type": "execute_result",
          "data": {
            "text/html": [
              "<div>\n",
              "<style scoped>\n",
              "    .dataframe tbody tr th:only-of-type {\n",
              "        vertical-align: middle;\n",
              "    }\n",
              "\n",
              "    .dataframe tbody tr th {\n",
              "        vertical-align: top;\n",
              "    }\n",
              "\n",
              "    .dataframe thead th {\n",
              "        text-align: right;\n",
              "    }\n",
              "</style>\n",
              "<table border=\"1\" class=\"dataframe\">\n",
              "  <thead>\n",
              "    <tr style=\"text-align: right;\">\n",
              "      <th></th>\n",
              "      <th>show_id</th>\n",
              "      <th>type</th>\n",
              "      <th>title</th>\n",
              "      <th>director</th>\n",
              "      <th>cast</th>\n",
              "      <th>country</th>\n",
              "      <th>date_added</th>\n",
              "      <th>release_year</th>\n",
              "      <th>rating</th>\n",
              "      <th>duration</th>\n",
              "      <th>listed_in</th>\n",
              "      <th>description</th>\n",
              "    </tr>\n",
              "  </thead>\n",
              "  <tbody>\n",
              "    <tr>\n",
              "      <th>0</th>\n",
              "      <td>81145628</td>\n",
              "      <td>Movie</td>\n",
              "      <td>Norm of the North: King Sized Adventure</td>\n",
              "      <td>Richard Finn, Tim Maltby</td>\n",
              "      <td>Alan Marriott, Andrew Toth, Brian Dobson, Cole...</td>\n",
              "      <td>United States, India, South Korea, China</td>\n",
              "      <td>September 9, 2019</td>\n",
              "      <td>2019</td>\n",
              "      <td>TV-PG</td>\n",
              "      <td>90 min</td>\n",
              "      <td>Children &amp; Family Movies, Comedies</td>\n",
              "      <td>Before planning an awesome wedding for his gra...</td>\n",
              "    </tr>\n",
              "    <tr>\n",
              "      <th>1</th>\n",
              "      <td>80117401</td>\n",
              "      <td>Movie</td>\n",
              "      <td>Jandino: Whatever it Takes</td>\n",
              "      <td>NaN</td>\n",
              "      <td>Jandino Asporaat</td>\n",
              "      <td>United Kingdom</td>\n",
              "      <td>September 9, 2016</td>\n",
              "      <td>2016</td>\n",
              "      <td>TV-MA</td>\n",
              "      <td>94 min</td>\n",
              "      <td>Stand-Up Comedy</td>\n",
              "      <td>Jandino Asporaat riffs on the challenges of ra...</td>\n",
              "    </tr>\n",
              "    <tr>\n",
              "      <th>2</th>\n",
              "      <td>70234439</td>\n",
              "      <td>TV Show</td>\n",
              "      <td>Transformers Prime</td>\n",
              "      <td>NaN</td>\n",
              "      <td>Peter Cullen, Sumalee Montano, Frank Welker, J...</td>\n",
              "      <td>United States</td>\n",
              "      <td>September 8, 2018</td>\n",
              "      <td>2013</td>\n",
              "      <td>TV-Y7-FV</td>\n",
              "      <td>1 Season</td>\n",
              "      <td>Kids' TV</td>\n",
              "      <td>With the help of three human allies, the Autob...</td>\n",
              "    </tr>\n",
              "    <tr>\n",
              "      <th>3</th>\n",
              "      <td>80058654</td>\n",
              "      <td>TV Show</td>\n",
              "      <td>Transformers: Robots in Disguise</td>\n",
              "      <td>NaN</td>\n",
              "      <td>Will Friedle, Darren Criss, Constance Zimmer, ...</td>\n",
              "      <td>United States</td>\n",
              "      <td>September 8, 2018</td>\n",
              "      <td>2016</td>\n",
              "      <td>TV-Y7</td>\n",
              "      <td>1 Season</td>\n",
              "      <td>Kids' TV</td>\n",
              "      <td>When a prison ship crash unleashes hundreds of...</td>\n",
              "    </tr>\n",
              "    <tr>\n",
              "      <th>4</th>\n",
              "      <td>80125979</td>\n",
              "      <td>Movie</td>\n",
              "      <td>#realityhigh</td>\n",
              "      <td>Fernando Lebrija</td>\n",
              "      <td>Nesta Cooper, Kate Walsh, John Michael Higgins...</td>\n",
              "      <td>United States</td>\n",
              "      <td>September 8, 2017</td>\n",
              "      <td>2017</td>\n",
              "      <td>TV-14</td>\n",
              "      <td>99 min</td>\n",
              "      <td>Comedies</td>\n",
              "      <td>When nerdy high schooler Dani finally attracts...</td>\n",
              "    </tr>\n",
              "    <tr>\n",
              "      <th>...</th>\n",
              "      <td>...</td>\n",
              "      <td>...</td>\n",
              "      <td>...</td>\n",
              "      <td>...</td>\n",
              "      <td>...</td>\n",
              "      <td>...</td>\n",
              "      <td>...</td>\n",
              "      <td>...</td>\n",
              "      <td>...</td>\n",
              "      <td>...</td>\n",
              "      <td>...</td>\n",
              "      <td>...</td>\n",
              "    </tr>\n",
              "    <tr>\n",
              "      <th>6229</th>\n",
              "      <td>80000063</td>\n",
              "      <td>TV Show</td>\n",
              "      <td>Red vs. Blue</td>\n",
              "      <td>NaN</td>\n",
              "      <td>Burnie Burns, Jason Saldaña, Gustavo Sorola, G...</td>\n",
              "      <td>United States</td>\n",
              "      <td>NaN</td>\n",
              "      <td>2015</td>\n",
              "      <td>NR</td>\n",
              "      <td>13 Seasons</td>\n",
              "      <td>TV Action &amp; Adventure, TV Comedies, TV Sci-Fi ...</td>\n",
              "      <td>This parody of first-person shooter games, mil...</td>\n",
              "    </tr>\n",
              "    <tr>\n",
              "      <th>6230</th>\n",
              "      <td>70286564</td>\n",
              "      <td>TV Show</td>\n",
              "      <td>Maron</td>\n",
              "      <td>NaN</td>\n",
              "      <td>Marc Maron, Judd Hirsch, Josh Brener, Nora Zeh...</td>\n",
              "      <td>United States</td>\n",
              "      <td>NaN</td>\n",
              "      <td>2016</td>\n",
              "      <td>TV-MA</td>\n",
              "      <td>4 Seasons</td>\n",
              "      <td>TV Comedies</td>\n",
              "      <td>Marc Maron stars as Marc Maron, who interviews...</td>\n",
              "    </tr>\n",
              "    <tr>\n",
              "      <th>6231</th>\n",
              "      <td>80116008</td>\n",
              "      <td>Movie</td>\n",
              "      <td>Little Baby Bum: Nursery Rhyme Friends</td>\n",
              "      <td>NaN</td>\n",
              "      <td>NaN</td>\n",
              "      <td>NaN</td>\n",
              "      <td>NaN</td>\n",
              "      <td>2016</td>\n",
              "      <td>NaN</td>\n",
              "      <td>60 min</td>\n",
              "      <td>Movies</td>\n",
              "      <td>Nursery rhymes and original music for children...</td>\n",
              "    </tr>\n",
              "    <tr>\n",
              "      <th>6232</th>\n",
              "      <td>70281022</td>\n",
              "      <td>TV Show</td>\n",
              "      <td>A Young Doctor's Notebook and Other Stories</td>\n",
              "      <td>NaN</td>\n",
              "      <td>Daniel Radcliffe, Jon Hamm, Adam Godley, Chris...</td>\n",
              "      <td>United Kingdom</td>\n",
              "      <td>NaN</td>\n",
              "      <td>2013</td>\n",
              "      <td>TV-MA</td>\n",
              "      <td>2 Seasons</td>\n",
              "      <td>British TV Shows, TV Comedies, TV Dramas</td>\n",
              "      <td>Set during the Russian Revolution, this comic ...</td>\n",
              "    </tr>\n",
              "    <tr>\n",
              "      <th>6233</th>\n",
              "      <td>70153404</td>\n",
              "      <td>TV Show</td>\n",
              "      <td>Friends</td>\n",
              "      <td>NaN</td>\n",
              "      <td>Jennifer Aniston, Courteney Cox, Lisa Kudrow, ...</td>\n",
              "      <td>United States</td>\n",
              "      <td>NaN</td>\n",
              "      <td>2003</td>\n",
              "      <td>TV-14</td>\n",
              "      <td>10 Seasons</td>\n",
              "      <td>Classic &amp; Cult TV, TV Comedies</td>\n",
              "      <td>This hit sitcom follows the merry misadventure...</td>\n",
              "    </tr>\n",
              "  </tbody>\n",
              "</table>\n",
              "<p>6234 rows × 12 columns</p>\n",
              "</div>"
            ],
            "text/plain": [
              "       show_id  ...                                        description\n",
              "0     81145628  ...  Before planning an awesome wedding for his gra...\n",
              "1     80117401  ...  Jandino Asporaat riffs on the challenges of ra...\n",
              "2     70234439  ...  With the help of three human allies, the Autob...\n",
              "3     80058654  ...  When a prison ship crash unleashes hundreds of...\n",
              "4     80125979  ...  When nerdy high schooler Dani finally attracts...\n",
              "...        ...  ...                                                ...\n",
              "6229  80000063  ...  This parody of first-person shooter games, mil...\n",
              "6230  70286564  ...  Marc Maron stars as Marc Maron, who interviews...\n",
              "6231  80116008  ...  Nursery rhymes and original music for children...\n",
              "6232  70281022  ...  Set during the Russian Revolution, this comic ...\n",
              "6233  70153404  ...  This hit sitcom follows the merry misadventure...\n",
              "\n",
              "[6234 rows x 12 columns]"
            ]
          },
          "metadata": {
            "tags": []
          },
          "execution_count": 12
        }
      ]
    },
    {
      "cell_type": "code",
      "metadata": {
        "id": "-ycLFQiNiAs1",
        "colab": {
          "base_uri": "https://localhost:8080/",
          "height": 34
        },
        "outputId": "3c63fc64-1532-40d1-d7cd-4aff0f2a6bea"
      },
      "source": [
        "netflix_raw.shape"
      ],
      "execution_count": null,
      "outputs": [
        {
          "output_type": "execute_result",
          "data": {
            "text/plain": [
              "(6234, 12)"
            ]
          },
          "metadata": {
            "tags": []
          },
          "execution_count": 13
        }
      ]
    },
    {
      "cell_type": "markdown",
      "metadata": {
        "id": "Bq1wSrYVhuq_"
      },
      "source": [
        "As seen above, we get to know there are 6234 rows and 12 columns in the file."
      ]
    },
    {
      "cell_type": "code",
      "metadata": {
        "id": "4wm2RDYCQ75H",
        "colab": {
          "base_uri": "https://localhost:8080/",
          "height": 340
        },
        "outputId": "2bb7371f-7493-43a2-97ca-c787b19f6ee1"
      },
      "source": [
        "netflix_raw.info()"
      ],
      "execution_count": null,
      "outputs": [
        {
          "output_type": "stream",
          "text": [
            "<class 'pandas.core.frame.DataFrame'>\n",
            "RangeIndex: 6234 entries, 0 to 6233\n",
            "Data columns (total 12 columns):\n",
            " #   Column        Non-Null Count  Dtype \n",
            "---  ------        --------------  ----- \n",
            " 0   show_id       6234 non-null   int64 \n",
            " 1   type          6234 non-null   object\n",
            " 2   title         6234 non-null   object\n",
            " 3   director      4265 non-null   object\n",
            " 4   cast          5664 non-null   object\n",
            " 5   country       5758 non-null   object\n",
            " 6   date_added    6223 non-null   object\n",
            " 7   release_year  6234 non-null   int64 \n",
            " 8   rating        6224 non-null   object\n",
            " 9   duration      6234 non-null   object\n",
            " 10  listed_in     6234 non-null   object\n",
            " 11  description   6234 non-null   object\n",
            "dtypes: int64(2), object(10)\n",
            "memory usage: 584.6+ KB\n"
          ],
          "name": "stdout"
        }
      ]
    },
    {
      "cell_type": "code",
      "metadata": {
        "id": "kldRI6K46Ol1",
        "colab": {
          "base_uri": "https://localhost:8080/",
          "height": 238
        },
        "outputId": "0dfd040e-76fa-408c-91ab-cba374ed4442"
      },
      "source": [
        "netflix_raw.isna().sum()"
      ],
      "execution_count": null,
      "outputs": [
        {
          "output_type": "execute_result",
          "data": {
            "text/plain": [
              "show_id            0\n",
              "type               0\n",
              "title              0\n",
              "director        1969\n",
              "cast             570\n",
              "country          476\n",
              "date_added        11\n",
              "release_year       0\n",
              "rating            10\n",
              "duration           0\n",
              "listed_in          0\n",
              "description        0\n",
              "dtype: int64"
            ]
          },
          "metadata": {
            "tags": []
          },
          "execution_count": 15
        }
      ]
    },
    {
      "cell_type": "markdown",
      "metadata": {
        "id": "uF5IZuJ5iypY"
      },
      "source": [
        "Notice that some of the columns above (`director`, `cast`, `country`, `date_added`, `rating`) contain `NaN` values. Hence the raw file requires some cleaning.\n",
        "\n",
        "\n",
        "We'll make a copy of the original data for the same and do the required cleaning on that dataset.\n"
      ]
    },
    {
      "cell_type": "code",
      "metadata": {
        "id": "whmRyzd4Q75Q",
        "colab": {
          "base_uri": "https://localhost:8080/",
          "height": 980
        },
        "outputId": "586a9973-bf70-4793-bd39-4d38ac4bc2fd"
      },
      "source": [
        "netflix_df = netflix_raw.copy()\n",
        "netflix_df"
      ],
      "execution_count": null,
      "outputs": [
        {
          "output_type": "execute_result",
          "data": {
            "text/html": [
              "<div>\n",
              "<style scoped>\n",
              "    .dataframe tbody tr th:only-of-type {\n",
              "        vertical-align: middle;\n",
              "    }\n",
              "\n",
              "    .dataframe tbody tr th {\n",
              "        vertical-align: top;\n",
              "    }\n",
              "\n",
              "    .dataframe thead th {\n",
              "        text-align: right;\n",
              "    }\n",
              "</style>\n",
              "<table border=\"1\" class=\"dataframe\">\n",
              "  <thead>\n",
              "    <tr style=\"text-align: right;\">\n",
              "      <th></th>\n",
              "      <th>show_id</th>\n",
              "      <th>type</th>\n",
              "      <th>title</th>\n",
              "      <th>director</th>\n",
              "      <th>cast</th>\n",
              "      <th>country</th>\n",
              "      <th>date_added</th>\n",
              "      <th>release_year</th>\n",
              "      <th>rating</th>\n",
              "      <th>duration</th>\n",
              "      <th>listed_in</th>\n",
              "      <th>description</th>\n",
              "    </tr>\n",
              "  </thead>\n",
              "  <tbody>\n",
              "    <tr>\n",
              "      <th>0</th>\n",
              "      <td>81145628</td>\n",
              "      <td>Movie</td>\n",
              "      <td>Norm of the North: King Sized Adventure</td>\n",
              "      <td>Richard Finn, Tim Maltby</td>\n",
              "      <td>Alan Marriott, Andrew Toth, Brian Dobson, Cole...</td>\n",
              "      <td>United States, India, South Korea, China</td>\n",
              "      <td>September 9, 2019</td>\n",
              "      <td>2019</td>\n",
              "      <td>TV-PG</td>\n",
              "      <td>90 min</td>\n",
              "      <td>Children &amp; Family Movies, Comedies</td>\n",
              "      <td>Before planning an awesome wedding for his gra...</td>\n",
              "    </tr>\n",
              "    <tr>\n",
              "      <th>1</th>\n",
              "      <td>80117401</td>\n",
              "      <td>Movie</td>\n",
              "      <td>Jandino: Whatever it Takes</td>\n",
              "      <td>NaN</td>\n",
              "      <td>Jandino Asporaat</td>\n",
              "      <td>United Kingdom</td>\n",
              "      <td>September 9, 2016</td>\n",
              "      <td>2016</td>\n",
              "      <td>TV-MA</td>\n",
              "      <td>94 min</td>\n",
              "      <td>Stand-Up Comedy</td>\n",
              "      <td>Jandino Asporaat riffs on the challenges of ra...</td>\n",
              "    </tr>\n",
              "    <tr>\n",
              "      <th>2</th>\n",
              "      <td>70234439</td>\n",
              "      <td>TV Show</td>\n",
              "      <td>Transformers Prime</td>\n",
              "      <td>NaN</td>\n",
              "      <td>Peter Cullen, Sumalee Montano, Frank Welker, J...</td>\n",
              "      <td>United States</td>\n",
              "      <td>September 8, 2018</td>\n",
              "      <td>2013</td>\n",
              "      <td>TV-Y7-FV</td>\n",
              "      <td>1 Season</td>\n",
              "      <td>Kids' TV</td>\n",
              "      <td>With the help of three human allies, the Autob...</td>\n",
              "    </tr>\n",
              "    <tr>\n",
              "      <th>3</th>\n",
              "      <td>80058654</td>\n",
              "      <td>TV Show</td>\n",
              "      <td>Transformers: Robots in Disguise</td>\n",
              "      <td>NaN</td>\n",
              "      <td>Will Friedle, Darren Criss, Constance Zimmer, ...</td>\n",
              "      <td>United States</td>\n",
              "      <td>September 8, 2018</td>\n",
              "      <td>2016</td>\n",
              "      <td>TV-Y7</td>\n",
              "      <td>1 Season</td>\n",
              "      <td>Kids' TV</td>\n",
              "      <td>When a prison ship crash unleashes hundreds of...</td>\n",
              "    </tr>\n",
              "    <tr>\n",
              "      <th>4</th>\n",
              "      <td>80125979</td>\n",
              "      <td>Movie</td>\n",
              "      <td>#realityhigh</td>\n",
              "      <td>Fernando Lebrija</td>\n",
              "      <td>Nesta Cooper, Kate Walsh, John Michael Higgins...</td>\n",
              "      <td>United States</td>\n",
              "      <td>September 8, 2017</td>\n",
              "      <td>2017</td>\n",
              "      <td>TV-14</td>\n",
              "      <td>99 min</td>\n",
              "      <td>Comedies</td>\n",
              "      <td>When nerdy high schooler Dani finally attracts...</td>\n",
              "    </tr>\n",
              "    <tr>\n",
              "      <th>...</th>\n",
              "      <td>...</td>\n",
              "      <td>...</td>\n",
              "      <td>...</td>\n",
              "      <td>...</td>\n",
              "      <td>...</td>\n",
              "      <td>...</td>\n",
              "      <td>...</td>\n",
              "      <td>...</td>\n",
              "      <td>...</td>\n",
              "      <td>...</td>\n",
              "      <td>...</td>\n",
              "      <td>...</td>\n",
              "    </tr>\n",
              "    <tr>\n",
              "      <th>6229</th>\n",
              "      <td>80000063</td>\n",
              "      <td>TV Show</td>\n",
              "      <td>Red vs. Blue</td>\n",
              "      <td>NaN</td>\n",
              "      <td>Burnie Burns, Jason Saldaña, Gustavo Sorola, G...</td>\n",
              "      <td>United States</td>\n",
              "      <td>NaN</td>\n",
              "      <td>2015</td>\n",
              "      <td>NR</td>\n",
              "      <td>13 Seasons</td>\n",
              "      <td>TV Action &amp; Adventure, TV Comedies, TV Sci-Fi ...</td>\n",
              "      <td>This parody of first-person shooter games, mil...</td>\n",
              "    </tr>\n",
              "    <tr>\n",
              "      <th>6230</th>\n",
              "      <td>70286564</td>\n",
              "      <td>TV Show</td>\n",
              "      <td>Maron</td>\n",
              "      <td>NaN</td>\n",
              "      <td>Marc Maron, Judd Hirsch, Josh Brener, Nora Zeh...</td>\n",
              "      <td>United States</td>\n",
              "      <td>NaN</td>\n",
              "      <td>2016</td>\n",
              "      <td>TV-MA</td>\n",
              "      <td>4 Seasons</td>\n",
              "      <td>TV Comedies</td>\n",
              "      <td>Marc Maron stars as Marc Maron, who interviews...</td>\n",
              "    </tr>\n",
              "    <tr>\n",
              "      <th>6231</th>\n",
              "      <td>80116008</td>\n",
              "      <td>Movie</td>\n",
              "      <td>Little Baby Bum: Nursery Rhyme Friends</td>\n",
              "      <td>NaN</td>\n",
              "      <td>NaN</td>\n",
              "      <td>NaN</td>\n",
              "      <td>NaN</td>\n",
              "      <td>2016</td>\n",
              "      <td>NaN</td>\n",
              "      <td>60 min</td>\n",
              "      <td>Movies</td>\n",
              "      <td>Nursery rhymes and original music for children...</td>\n",
              "    </tr>\n",
              "    <tr>\n",
              "      <th>6232</th>\n",
              "      <td>70281022</td>\n",
              "      <td>TV Show</td>\n",
              "      <td>A Young Doctor's Notebook and Other Stories</td>\n",
              "      <td>NaN</td>\n",
              "      <td>Daniel Radcliffe, Jon Hamm, Adam Godley, Chris...</td>\n",
              "      <td>United Kingdom</td>\n",
              "      <td>NaN</td>\n",
              "      <td>2013</td>\n",
              "      <td>TV-MA</td>\n",
              "      <td>2 Seasons</td>\n",
              "      <td>British TV Shows, TV Comedies, TV Dramas</td>\n",
              "      <td>Set during the Russian Revolution, this comic ...</td>\n",
              "    </tr>\n",
              "    <tr>\n",
              "      <th>6233</th>\n",
              "      <td>70153404</td>\n",
              "      <td>TV Show</td>\n",
              "      <td>Friends</td>\n",
              "      <td>NaN</td>\n",
              "      <td>Jennifer Aniston, Courteney Cox, Lisa Kudrow, ...</td>\n",
              "      <td>United States</td>\n",
              "      <td>NaN</td>\n",
              "      <td>2003</td>\n",
              "      <td>TV-14</td>\n",
              "      <td>10 Seasons</td>\n",
              "      <td>Classic &amp; Cult TV, TV Comedies</td>\n",
              "      <td>This hit sitcom follows the merry misadventure...</td>\n",
              "    </tr>\n",
              "  </tbody>\n",
              "</table>\n",
              "<p>6234 rows × 12 columns</p>\n",
              "</div>"
            ],
            "text/plain": [
              "       show_id  ...                                        description\n",
              "0     81145628  ...  Before planning an awesome wedding for his gra...\n",
              "1     80117401  ...  Jandino Asporaat riffs on the challenges of ra...\n",
              "2     70234439  ...  With the help of three human allies, the Autob...\n",
              "3     80058654  ...  When a prison ship crash unleashes hundreds of...\n",
              "4     80125979  ...  When nerdy high schooler Dani finally attracts...\n",
              "...        ...  ...                                                ...\n",
              "6229  80000063  ...  This parody of first-person shooter games, mil...\n",
              "6230  70286564  ...  Marc Maron stars as Marc Maron, who interviews...\n",
              "6231  80116008  ...  Nursery rhymes and original music for children...\n",
              "6232  70281022  ...  Set during the Russian Revolution, this comic ...\n",
              "6233  70153404  ...  This hit sitcom follows the merry misadventure...\n",
              "\n",
              "[6234 rows x 12 columns]"
            ]
          },
          "metadata": {
            "tags": []
          },
          "execution_count": 16
        }
      ]
    },
    {
      "cell_type": "markdown",
      "metadata": {
        "id": "-_xH3DkcjZ3y"
      },
      "source": [
        "Let's begin with Cleaning the data. First, let's replace the `NaN` values in `director`, `cast` and `country` with the label `\"Unknown\"`. We'll take help of the `numpy` library."
      ]
    },
    {
      "cell_type": "code",
      "metadata": {
        "id": "FAWyUvmR_Ly8"
      },
      "source": [
        "import numpy as np"
      ],
      "execution_count": null,
      "outputs": []
    },
    {
      "cell_type": "code",
      "metadata": {
        "id": "gHihtmZHQ75b",
        "colab": {
          "base_uri": "https://localhost:8080/",
          "height": 980
        },
        "outputId": "b331f96d-d7ff-41c7-8dca-93ae29817bad"
      },
      "source": [
        "netflix_df['country'].replace(np.nan, 'Unknown',inplace  = True)\n",
        "netflix_df['director'].replace(np.nan, 'Unknown',inplace  = True)\n",
        "netflix_df['cast'].replace(np.nan, 'Unknown',inplace  = True)\n",
        "netflix_df"
      ],
      "execution_count": null,
      "outputs": [
        {
          "output_type": "execute_result",
          "data": {
            "text/html": [
              "<div>\n",
              "<style scoped>\n",
              "    .dataframe tbody tr th:only-of-type {\n",
              "        vertical-align: middle;\n",
              "    }\n",
              "\n",
              "    .dataframe tbody tr th {\n",
              "        vertical-align: top;\n",
              "    }\n",
              "\n",
              "    .dataframe thead th {\n",
              "        text-align: right;\n",
              "    }\n",
              "</style>\n",
              "<table border=\"1\" class=\"dataframe\">\n",
              "  <thead>\n",
              "    <tr style=\"text-align: right;\">\n",
              "      <th></th>\n",
              "      <th>show_id</th>\n",
              "      <th>type</th>\n",
              "      <th>title</th>\n",
              "      <th>director</th>\n",
              "      <th>cast</th>\n",
              "      <th>country</th>\n",
              "      <th>date_added</th>\n",
              "      <th>release_year</th>\n",
              "      <th>rating</th>\n",
              "      <th>duration</th>\n",
              "      <th>listed_in</th>\n",
              "      <th>description</th>\n",
              "    </tr>\n",
              "  </thead>\n",
              "  <tbody>\n",
              "    <tr>\n",
              "      <th>0</th>\n",
              "      <td>81145628</td>\n",
              "      <td>Movie</td>\n",
              "      <td>Norm of the North: King Sized Adventure</td>\n",
              "      <td>Richard Finn, Tim Maltby</td>\n",
              "      <td>Alan Marriott, Andrew Toth, Brian Dobson, Cole...</td>\n",
              "      <td>United States, India, South Korea, China</td>\n",
              "      <td>September 9, 2019</td>\n",
              "      <td>2019</td>\n",
              "      <td>TV-PG</td>\n",
              "      <td>90 min</td>\n",
              "      <td>Children &amp; Family Movies, Comedies</td>\n",
              "      <td>Before planning an awesome wedding for his gra...</td>\n",
              "    </tr>\n",
              "    <tr>\n",
              "      <th>1</th>\n",
              "      <td>80117401</td>\n",
              "      <td>Movie</td>\n",
              "      <td>Jandino: Whatever it Takes</td>\n",
              "      <td>Unknown</td>\n",
              "      <td>Jandino Asporaat</td>\n",
              "      <td>United Kingdom</td>\n",
              "      <td>September 9, 2016</td>\n",
              "      <td>2016</td>\n",
              "      <td>TV-MA</td>\n",
              "      <td>94 min</td>\n",
              "      <td>Stand-Up Comedy</td>\n",
              "      <td>Jandino Asporaat riffs on the challenges of ra...</td>\n",
              "    </tr>\n",
              "    <tr>\n",
              "      <th>2</th>\n",
              "      <td>70234439</td>\n",
              "      <td>TV Show</td>\n",
              "      <td>Transformers Prime</td>\n",
              "      <td>Unknown</td>\n",
              "      <td>Peter Cullen, Sumalee Montano, Frank Welker, J...</td>\n",
              "      <td>United States</td>\n",
              "      <td>September 8, 2018</td>\n",
              "      <td>2013</td>\n",
              "      <td>TV-Y7-FV</td>\n",
              "      <td>1 Season</td>\n",
              "      <td>Kids' TV</td>\n",
              "      <td>With the help of three human allies, the Autob...</td>\n",
              "    </tr>\n",
              "    <tr>\n",
              "      <th>3</th>\n",
              "      <td>80058654</td>\n",
              "      <td>TV Show</td>\n",
              "      <td>Transformers: Robots in Disguise</td>\n",
              "      <td>Unknown</td>\n",
              "      <td>Will Friedle, Darren Criss, Constance Zimmer, ...</td>\n",
              "      <td>United States</td>\n",
              "      <td>September 8, 2018</td>\n",
              "      <td>2016</td>\n",
              "      <td>TV-Y7</td>\n",
              "      <td>1 Season</td>\n",
              "      <td>Kids' TV</td>\n",
              "      <td>When a prison ship crash unleashes hundreds of...</td>\n",
              "    </tr>\n",
              "    <tr>\n",
              "      <th>4</th>\n",
              "      <td>80125979</td>\n",
              "      <td>Movie</td>\n",
              "      <td>#realityhigh</td>\n",
              "      <td>Fernando Lebrija</td>\n",
              "      <td>Nesta Cooper, Kate Walsh, John Michael Higgins...</td>\n",
              "      <td>United States</td>\n",
              "      <td>September 8, 2017</td>\n",
              "      <td>2017</td>\n",
              "      <td>TV-14</td>\n",
              "      <td>99 min</td>\n",
              "      <td>Comedies</td>\n",
              "      <td>When nerdy high schooler Dani finally attracts...</td>\n",
              "    </tr>\n",
              "    <tr>\n",
              "      <th>...</th>\n",
              "      <td>...</td>\n",
              "      <td>...</td>\n",
              "      <td>...</td>\n",
              "      <td>...</td>\n",
              "      <td>...</td>\n",
              "      <td>...</td>\n",
              "      <td>...</td>\n",
              "      <td>...</td>\n",
              "      <td>...</td>\n",
              "      <td>...</td>\n",
              "      <td>...</td>\n",
              "      <td>...</td>\n",
              "    </tr>\n",
              "    <tr>\n",
              "      <th>6229</th>\n",
              "      <td>80000063</td>\n",
              "      <td>TV Show</td>\n",
              "      <td>Red vs. Blue</td>\n",
              "      <td>Unknown</td>\n",
              "      <td>Burnie Burns, Jason Saldaña, Gustavo Sorola, G...</td>\n",
              "      <td>United States</td>\n",
              "      <td>NaN</td>\n",
              "      <td>2015</td>\n",
              "      <td>NR</td>\n",
              "      <td>13 Seasons</td>\n",
              "      <td>TV Action &amp; Adventure, TV Comedies, TV Sci-Fi ...</td>\n",
              "      <td>This parody of first-person shooter games, mil...</td>\n",
              "    </tr>\n",
              "    <tr>\n",
              "      <th>6230</th>\n",
              "      <td>70286564</td>\n",
              "      <td>TV Show</td>\n",
              "      <td>Maron</td>\n",
              "      <td>Unknown</td>\n",
              "      <td>Marc Maron, Judd Hirsch, Josh Brener, Nora Zeh...</td>\n",
              "      <td>United States</td>\n",
              "      <td>NaN</td>\n",
              "      <td>2016</td>\n",
              "      <td>TV-MA</td>\n",
              "      <td>4 Seasons</td>\n",
              "      <td>TV Comedies</td>\n",
              "      <td>Marc Maron stars as Marc Maron, who interviews...</td>\n",
              "    </tr>\n",
              "    <tr>\n",
              "      <th>6231</th>\n",
              "      <td>80116008</td>\n",
              "      <td>Movie</td>\n",
              "      <td>Little Baby Bum: Nursery Rhyme Friends</td>\n",
              "      <td>Unknown</td>\n",
              "      <td>Unknown</td>\n",
              "      <td>Unknown</td>\n",
              "      <td>NaN</td>\n",
              "      <td>2016</td>\n",
              "      <td>NaN</td>\n",
              "      <td>60 min</td>\n",
              "      <td>Movies</td>\n",
              "      <td>Nursery rhymes and original music for children...</td>\n",
              "    </tr>\n",
              "    <tr>\n",
              "      <th>6232</th>\n",
              "      <td>70281022</td>\n",
              "      <td>TV Show</td>\n",
              "      <td>A Young Doctor's Notebook and Other Stories</td>\n",
              "      <td>Unknown</td>\n",
              "      <td>Daniel Radcliffe, Jon Hamm, Adam Godley, Chris...</td>\n",
              "      <td>United Kingdom</td>\n",
              "      <td>NaN</td>\n",
              "      <td>2013</td>\n",
              "      <td>TV-MA</td>\n",
              "      <td>2 Seasons</td>\n",
              "      <td>British TV Shows, TV Comedies, TV Dramas</td>\n",
              "      <td>Set during the Russian Revolution, this comic ...</td>\n",
              "    </tr>\n",
              "    <tr>\n",
              "      <th>6233</th>\n",
              "      <td>70153404</td>\n",
              "      <td>TV Show</td>\n",
              "      <td>Friends</td>\n",
              "      <td>Unknown</td>\n",
              "      <td>Jennifer Aniston, Courteney Cox, Lisa Kudrow, ...</td>\n",
              "      <td>United States</td>\n",
              "      <td>NaN</td>\n",
              "      <td>2003</td>\n",
              "      <td>TV-14</td>\n",
              "      <td>10 Seasons</td>\n",
              "      <td>Classic &amp; Cult TV, TV Comedies</td>\n",
              "      <td>This hit sitcom follows the merry misadventure...</td>\n",
              "    </tr>\n",
              "  </tbody>\n",
              "</table>\n",
              "<p>6234 rows × 12 columns</p>\n",
              "</div>"
            ],
            "text/plain": [
              "       show_id  ...                                        description\n",
              "0     81145628  ...  Before planning an awesome wedding for his gra...\n",
              "1     80117401  ...  Jandino Asporaat riffs on the challenges of ra...\n",
              "2     70234439  ...  With the help of three human allies, the Autob...\n",
              "3     80058654  ...  When a prison ship crash unleashes hundreds of...\n",
              "4     80125979  ...  When nerdy high schooler Dani finally attracts...\n",
              "...        ...  ...                                                ...\n",
              "6229  80000063  ...  This parody of first-person shooter games, mil...\n",
              "6230  70286564  ...  Marc Maron stars as Marc Maron, who interviews...\n",
              "6231  80116008  ...  Nursery rhymes and original music for children...\n",
              "6232  70281022  ...  Set during the Russian Revolution, this comic ...\n",
              "6233  70153404  ...  This hit sitcom follows the merry misadventure...\n",
              "\n",
              "[6234 rows x 12 columns]"
            ]
          },
          "metadata": {
            "tags": []
          },
          "execution_count": 18
        }
      ]
    },
    {
      "cell_type": "markdown",
      "metadata": {
        "id": "8edkonR6mVZU"
      },
      "source": [
        "We have very few null values in `date_added` and `rating` compared to the size of the dataset. Let's drop rows with `NaN` values under `date_added`."
      ]
    },
    {
      "cell_type": "code",
      "metadata": {
        "id": "5jksV1RvQ75k",
        "colab": {
          "base_uri": "https://localhost:8080/",
          "height": 1000
        },
        "outputId": "5a5fa3f5-c711-4f13-939c-ca011e37520b"
      },
      "source": [
        "netflix_df.dropna(inplace=True)\n",
        "netflix_df = netflix_df.reset_index(drop=True)\n",
        "netflix_df"
      ],
      "execution_count": null,
      "outputs": [
        {
          "output_type": "execute_result",
          "data": {
            "text/html": [
              "<div>\n",
              "<style scoped>\n",
              "    .dataframe tbody tr th:only-of-type {\n",
              "        vertical-align: middle;\n",
              "    }\n",
              "\n",
              "    .dataframe tbody tr th {\n",
              "        vertical-align: top;\n",
              "    }\n",
              "\n",
              "    .dataframe thead th {\n",
              "        text-align: right;\n",
              "    }\n",
              "</style>\n",
              "<table border=\"1\" class=\"dataframe\">\n",
              "  <thead>\n",
              "    <tr style=\"text-align: right;\">\n",
              "      <th></th>\n",
              "      <th>show_id</th>\n",
              "      <th>type</th>\n",
              "      <th>title</th>\n",
              "      <th>director</th>\n",
              "      <th>cast</th>\n",
              "      <th>country</th>\n",
              "      <th>date_added</th>\n",
              "      <th>release_year</th>\n",
              "      <th>rating</th>\n",
              "      <th>duration</th>\n",
              "      <th>listed_in</th>\n",
              "      <th>description</th>\n",
              "    </tr>\n",
              "  </thead>\n",
              "  <tbody>\n",
              "    <tr>\n",
              "      <th>0</th>\n",
              "      <td>81145628</td>\n",
              "      <td>Movie</td>\n",
              "      <td>Norm of the North: King Sized Adventure</td>\n",
              "      <td>Richard Finn, Tim Maltby</td>\n",
              "      <td>Alan Marriott, Andrew Toth, Brian Dobson, Cole...</td>\n",
              "      <td>United States, India, South Korea, China</td>\n",
              "      <td>September 9, 2019</td>\n",
              "      <td>2019</td>\n",
              "      <td>TV-PG</td>\n",
              "      <td>90 min</td>\n",
              "      <td>Children &amp; Family Movies, Comedies</td>\n",
              "      <td>Before planning an awesome wedding for his gra...</td>\n",
              "    </tr>\n",
              "    <tr>\n",
              "      <th>1</th>\n",
              "      <td>80117401</td>\n",
              "      <td>Movie</td>\n",
              "      <td>Jandino: Whatever it Takes</td>\n",
              "      <td>Unknown</td>\n",
              "      <td>Jandino Asporaat</td>\n",
              "      <td>United Kingdom</td>\n",
              "      <td>September 9, 2016</td>\n",
              "      <td>2016</td>\n",
              "      <td>TV-MA</td>\n",
              "      <td>94 min</td>\n",
              "      <td>Stand-Up Comedy</td>\n",
              "      <td>Jandino Asporaat riffs on the challenges of ra...</td>\n",
              "    </tr>\n",
              "    <tr>\n",
              "      <th>2</th>\n",
              "      <td>70234439</td>\n",
              "      <td>TV Show</td>\n",
              "      <td>Transformers Prime</td>\n",
              "      <td>Unknown</td>\n",
              "      <td>Peter Cullen, Sumalee Montano, Frank Welker, J...</td>\n",
              "      <td>United States</td>\n",
              "      <td>September 8, 2018</td>\n",
              "      <td>2013</td>\n",
              "      <td>TV-Y7-FV</td>\n",
              "      <td>1 Season</td>\n",
              "      <td>Kids' TV</td>\n",
              "      <td>With the help of three human allies, the Autob...</td>\n",
              "    </tr>\n",
              "    <tr>\n",
              "      <th>3</th>\n",
              "      <td>80058654</td>\n",
              "      <td>TV Show</td>\n",
              "      <td>Transformers: Robots in Disguise</td>\n",
              "      <td>Unknown</td>\n",
              "      <td>Will Friedle, Darren Criss, Constance Zimmer, ...</td>\n",
              "      <td>United States</td>\n",
              "      <td>September 8, 2018</td>\n",
              "      <td>2016</td>\n",
              "      <td>TV-Y7</td>\n",
              "      <td>1 Season</td>\n",
              "      <td>Kids' TV</td>\n",
              "      <td>When a prison ship crash unleashes hundreds of...</td>\n",
              "    </tr>\n",
              "    <tr>\n",
              "      <th>4</th>\n",
              "      <td>80125979</td>\n",
              "      <td>Movie</td>\n",
              "      <td>#realityhigh</td>\n",
              "      <td>Fernando Lebrija</td>\n",
              "      <td>Nesta Cooper, Kate Walsh, John Michael Higgins...</td>\n",
              "      <td>United States</td>\n",
              "      <td>September 8, 2017</td>\n",
              "      <td>2017</td>\n",
              "      <td>TV-14</td>\n",
              "      <td>99 min</td>\n",
              "      <td>Comedies</td>\n",
              "      <td>When nerdy high schooler Dani finally attracts...</td>\n",
              "    </tr>\n",
              "    <tr>\n",
              "      <th>...</th>\n",
              "      <td>...</td>\n",
              "      <td>...</td>\n",
              "      <td>...</td>\n",
              "      <td>...</td>\n",
              "      <td>...</td>\n",
              "      <td>...</td>\n",
              "      <td>...</td>\n",
              "      <td>...</td>\n",
              "      <td>...</td>\n",
              "      <td>...</td>\n",
              "      <td>...</td>\n",
              "      <td>...</td>\n",
              "    </tr>\n",
              "    <tr>\n",
              "      <th>6209</th>\n",
              "      <td>80162994</td>\n",
              "      <td>TV Show</td>\n",
              "      <td>Talking Tom and Friends</td>\n",
              "      <td>Unknown</td>\n",
              "      <td>Colin Hanks, Tom Kenny, James Adomian, Lisa Sc...</td>\n",
              "      <td>Cyprus, Austria, Thailand</td>\n",
              "      <td>April 10, 2019</td>\n",
              "      <td>2017</td>\n",
              "      <td>TV-G</td>\n",
              "      <td>2 Seasons</td>\n",
              "      <td>Kids' TV, TV Comedies</td>\n",
              "      <td>Full of funny one-liners and always ready for ...</td>\n",
              "    </tr>\n",
              "    <tr>\n",
              "      <th>6210</th>\n",
              "      <td>80186475</td>\n",
              "      <td>TV Show</td>\n",
              "      <td>Pokémon the Series</td>\n",
              "      <td>Unknown</td>\n",
              "      <td>Sarah Natochenny, Laurie Hymes, Jessica Paquet...</td>\n",
              "      <td>Japan</td>\n",
              "      <td>April 1, 2019</td>\n",
              "      <td>2019</td>\n",
              "      <td>TV-Y7-FV</td>\n",
              "      <td>2 Seasons</td>\n",
              "      <td>Anime Series, Kids' TV</td>\n",
              "      <td>Ash and his Pikachu travel to the Alola region...</td>\n",
              "    </tr>\n",
              "    <tr>\n",
              "      <th>6211</th>\n",
              "      <td>70272742</td>\n",
              "      <td>TV Show</td>\n",
              "      <td>Justin Time</td>\n",
              "      <td>Unknown</td>\n",
              "      <td>Gage Munroe, Scott McCord, Jenna Warren</td>\n",
              "      <td>Canada</td>\n",
              "      <td>April 1, 2016</td>\n",
              "      <td>2012</td>\n",
              "      <td>TV-Y</td>\n",
              "      <td>2 Seasons</td>\n",
              "      <td>Kids' TV</td>\n",
              "      <td>In Justin's dreams, he and his imaginary frien...</td>\n",
              "    </tr>\n",
              "    <tr>\n",
              "      <th>6212</th>\n",
              "      <td>80067942</td>\n",
              "      <td>TV Show</td>\n",
              "      <td>Terrace House: Boys &amp; Girls in the City</td>\n",
              "      <td>Unknown</td>\n",
              "      <td>You, Reina Triendl, Ryota Yamasato, Yoshimi To...</td>\n",
              "      <td>Japan</td>\n",
              "      <td>April 1, 2016</td>\n",
              "      <td>2016</td>\n",
              "      <td>TV-14</td>\n",
              "      <td>2 Seasons</td>\n",
              "      <td>International TV Shows, Reality TV</td>\n",
              "      <td>A new set of six men and women start their liv...</td>\n",
              "    </tr>\n",
              "    <tr>\n",
              "      <th>6213</th>\n",
              "      <td>70136122</td>\n",
              "      <td>TV Show</td>\n",
              "      <td>Weeds</td>\n",
              "      <td>Unknown</td>\n",
              "      <td>Mary-Louise Parker, Hunter Parrish, Alexander ...</td>\n",
              "      <td>United States</td>\n",
              "      <td>April 1, 2014</td>\n",
              "      <td>2012</td>\n",
              "      <td>TV-MA</td>\n",
              "      <td>8 Seasons</td>\n",
              "      <td>TV Comedies, TV Dramas</td>\n",
              "      <td>A suburban mother starts selling marijuana to ...</td>\n",
              "    </tr>\n",
              "  </tbody>\n",
              "</table>\n",
              "<p>6214 rows × 12 columns</p>\n",
              "</div>"
            ],
            "text/plain": [
              "       show_id  ...                                        description\n",
              "0     81145628  ...  Before planning an awesome wedding for his gra...\n",
              "1     80117401  ...  Jandino Asporaat riffs on the challenges of ra...\n",
              "2     70234439  ...  With the help of three human allies, the Autob...\n",
              "3     80058654  ...  When a prison ship crash unleashes hundreds of...\n",
              "4     80125979  ...  When nerdy high schooler Dani finally attracts...\n",
              "...        ...  ...                                                ...\n",
              "6209  80162994  ...  Full of funny one-liners and always ready for ...\n",
              "6210  80186475  ...  Ash and his Pikachu travel to the Alola region...\n",
              "6211  70272742  ...  In Justin's dreams, he and his imaginary frien...\n",
              "6212  80067942  ...  A new set of six men and women start their liv...\n",
              "6213  70136122  ...  A suburban mother starts selling marijuana to ...\n",
              "\n",
              "[6214 rows x 12 columns]"
            ]
          },
          "metadata": {
            "tags": []
          },
          "execution_count": 19
        }
      ]
    },
    {
      "cell_type": "markdown",
      "metadata": {
        "id": "6Nms-RIYDcku"
      },
      "source": [
        "Let's now check the number of `NaN` values in our dataset."
      ]
    },
    {
      "cell_type": "code",
      "metadata": {
        "id": "ahOw45ZlDbRx",
        "colab": {
          "base_uri": "https://localhost:8080/",
          "height": 238
        },
        "outputId": "6b0e77a4-4790-42bf-ffa9-56d2203dd242"
      },
      "source": [
        "netflix_df.isnull().sum()"
      ],
      "execution_count": null,
      "outputs": [
        {
          "output_type": "execute_result",
          "data": {
            "text/plain": [
              "show_id         0\n",
              "type            0\n",
              "title           0\n",
              "director        0\n",
              "cast            0\n",
              "country         0\n",
              "date_added      0\n",
              "release_year    0\n",
              "rating          0\n",
              "duration        0\n",
              "listed_in       0\n",
              "description     0\n",
              "dtype: int64"
            ]
          },
          "metadata": {
            "tags": []
          },
          "execution_count": 20
        }
      ]
    },
    {
      "cell_type": "markdown",
      "metadata": {
        "id": "cu6twg3PGGw1"
      },
      "source": [
        "Now that we have dealt with the `NaN` values let's deal with the `date_added` column and convert it's datatype."
      ]
    },
    {
      "cell_type": "code",
      "metadata": {
        "id": "U-6M4n4wKCH0",
        "colab": {
          "base_uri": "https://localhost:8080/",
          "height": 340
        },
        "outputId": "2f3a83d4-9e0d-451a-b367-3de5f851a057"
      },
      "source": [
        "netflix_df['date_added']=pd.to_datetime(netflix_df['date_added'])\n",
        "netflix_df.info()"
      ],
      "execution_count": null,
      "outputs": [
        {
          "output_type": "stream",
          "text": [
            "<class 'pandas.core.frame.DataFrame'>\n",
            "RangeIndex: 6214 entries, 0 to 6213\n",
            "Data columns (total 12 columns):\n",
            " #   Column        Non-Null Count  Dtype         \n",
            "---  ------        --------------  -----         \n",
            " 0   show_id       6214 non-null   int64         \n",
            " 1   type          6214 non-null   object        \n",
            " 2   title         6214 non-null   object        \n",
            " 3   director      6214 non-null   object        \n",
            " 4   cast          6214 non-null   object        \n",
            " 5   country       6214 non-null   object        \n",
            " 6   date_added    6214 non-null   datetime64[ns]\n",
            " 7   release_year  6214 non-null   int64         \n",
            " 8   rating        6214 non-null   object        \n",
            " 9   duration      6214 non-null   object        \n",
            " 10  listed_in     6214 non-null   object        \n",
            " 11  description   6214 non-null   object        \n",
            "dtypes: datetime64[ns](1), int64(2), object(9)\n",
            "memory usage: 582.7+ KB\n"
          ],
          "name": "stdout"
        }
      ]
    },
    {
      "cell_type": "markdown",
      "metadata": {
        "id": "zYsSDweALiZo"
      },
      "source": [
        "As we see above, the data type has been changed. Let's add 2 more columns to our dataset, namely, '`year_added`' and '`month_added`' to facilitate our analysis."
      ]
    },
    {
      "cell_type": "code",
      "metadata": {
        "id": "bHixekUiLtND",
        "colab": {
          "base_uri": "https://localhost:8080/",
          "height": 1000
        },
        "outputId": "5976c8f8-2c83-49ab-a6e6-4313db411f41"
      },
      "source": [
        "netflix_df['year_added'] = pd.DatetimeIndex(netflix_df.date_added).year\n",
        "netflix_df['month_added'] = pd.DatetimeIndex(netflix_df.date_added).month\n",
        "netflix_df"
      ],
      "execution_count": null,
      "outputs": [
        {
          "output_type": "execute_result",
          "data": {
            "text/html": [
              "<div>\n",
              "<style scoped>\n",
              "    .dataframe tbody tr th:only-of-type {\n",
              "        vertical-align: middle;\n",
              "    }\n",
              "\n",
              "    .dataframe tbody tr th {\n",
              "        vertical-align: top;\n",
              "    }\n",
              "\n",
              "    .dataframe thead th {\n",
              "        text-align: right;\n",
              "    }\n",
              "</style>\n",
              "<table border=\"1\" class=\"dataframe\">\n",
              "  <thead>\n",
              "    <tr style=\"text-align: right;\">\n",
              "      <th></th>\n",
              "      <th>show_id</th>\n",
              "      <th>type</th>\n",
              "      <th>title</th>\n",
              "      <th>director</th>\n",
              "      <th>cast</th>\n",
              "      <th>country</th>\n",
              "      <th>date_added</th>\n",
              "      <th>release_year</th>\n",
              "      <th>rating</th>\n",
              "      <th>duration</th>\n",
              "      <th>listed_in</th>\n",
              "      <th>description</th>\n",
              "      <th>year_added</th>\n",
              "      <th>month_added</th>\n",
              "    </tr>\n",
              "  </thead>\n",
              "  <tbody>\n",
              "    <tr>\n",
              "      <th>0</th>\n",
              "      <td>81145628</td>\n",
              "      <td>Movie</td>\n",
              "      <td>Norm of the North: King Sized Adventure</td>\n",
              "      <td>Richard Finn, Tim Maltby</td>\n",
              "      <td>Alan Marriott, Andrew Toth, Brian Dobson, Cole...</td>\n",
              "      <td>United States, India, South Korea, China</td>\n",
              "      <td>2019-09-09</td>\n",
              "      <td>2019</td>\n",
              "      <td>TV-PG</td>\n",
              "      <td>90 min</td>\n",
              "      <td>Children &amp; Family Movies, Comedies</td>\n",
              "      <td>Before planning an awesome wedding for his gra...</td>\n",
              "      <td>2019</td>\n",
              "      <td>9</td>\n",
              "    </tr>\n",
              "    <tr>\n",
              "      <th>1</th>\n",
              "      <td>80117401</td>\n",
              "      <td>Movie</td>\n",
              "      <td>Jandino: Whatever it Takes</td>\n",
              "      <td>Unknown</td>\n",
              "      <td>Jandino Asporaat</td>\n",
              "      <td>United Kingdom</td>\n",
              "      <td>2016-09-09</td>\n",
              "      <td>2016</td>\n",
              "      <td>TV-MA</td>\n",
              "      <td>94 min</td>\n",
              "      <td>Stand-Up Comedy</td>\n",
              "      <td>Jandino Asporaat riffs on the challenges of ra...</td>\n",
              "      <td>2016</td>\n",
              "      <td>9</td>\n",
              "    </tr>\n",
              "    <tr>\n",
              "      <th>2</th>\n",
              "      <td>70234439</td>\n",
              "      <td>TV Show</td>\n",
              "      <td>Transformers Prime</td>\n",
              "      <td>Unknown</td>\n",
              "      <td>Peter Cullen, Sumalee Montano, Frank Welker, J...</td>\n",
              "      <td>United States</td>\n",
              "      <td>2018-09-08</td>\n",
              "      <td>2013</td>\n",
              "      <td>TV-Y7-FV</td>\n",
              "      <td>1 Season</td>\n",
              "      <td>Kids' TV</td>\n",
              "      <td>With the help of three human allies, the Autob...</td>\n",
              "      <td>2018</td>\n",
              "      <td>9</td>\n",
              "    </tr>\n",
              "    <tr>\n",
              "      <th>3</th>\n",
              "      <td>80058654</td>\n",
              "      <td>TV Show</td>\n",
              "      <td>Transformers: Robots in Disguise</td>\n",
              "      <td>Unknown</td>\n",
              "      <td>Will Friedle, Darren Criss, Constance Zimmer, ...</td>\n",
              "      <td>United States</td>\n",
              "      <td>2018-09-08</td>\n",
              "      <td>2016</td>\n",
              "      <td>TV-Y7</td>\n",
              "      <td>1 Season</td>\n",
              "      <td>Kids' TV</td>\n",
              "      <td>When a prison ship crash unleashes hundreds of...</td>\n",
              "      <td>2018</td>\n",
              "      <td>9</td>\n",
              "    </tr>\n",
              "    <tr>\n",
              "      <th>4</th>\n",
              "      <td>80125979</td>\n",
              "      <td>Movie</td>\n",
              "      <td>#realityhigh</td>\n",
              "      <td>Fernando Lebrija</td>\n",
              "      <td>Nesta Cooper, Kate Walsh, John Michael Higgins...</td>\n",
              "      <td>United States</td>\n",
              "      <td>2017-09-08</td>\n",
              "      <td>2017</td>\n",
              "      <td>TV-14</td>\n",
              "      <td>99 min</td>\n",
              "      <td>Comedies</td>\n",
              "      <td>When nerdy high schooler Dani finally attracts...</td>\n",
              "      <td>2017</td>\n",
              "      <td>9</td>\n",
              "    </tr>\n",
              "    <tr>\n",
              "      <th>...</th>\n",
              "      <td>...</td>\n",
              "      <td>...</td>\n",
              "      <td>...</td>\n",
              "      <td>...</td>\n",
              "      <td>...</td>\n",
              "      <td>...</td>\n",
              "      <td>...</td>\n",
              "      <td>...</td>\n",
              "      <td>...</td>\n",
              "      <td>...</td>\n",
              "      <td>...</td>\n",
              "      <td>...</td>\n",
              "      <td>...</td>\n",
              "      <td>...</td>\n",
              "    </tr>\n",
              "    <tr>\n",
              "      <th>6209</th>\n",
              "      <td>80162994</td>\n",
              "      <td>TV Show</td>\n",
              "      <td>Talking Tom and Friends</td>\n",
              "      <td>Unknown</td>\n",
              "      <td>Colin Hanks, Tom Kenny, James Adomian, Lisa Sc...</td>\n",
              "      <td>Cyprus, Austria, Thailand</td>\n",
              "      <td>2019-04-10</td>\n",
              "      <td>2017</td>\n",
              "      <td>TV-G</td>\n",
              "      <td>2 Seasons</td>\n",
              "      <td>Kids' TV, TV Comedies</td>\n",
              "      <td>Full of funny one-liners and always ready for ...</td>\n",
              "      <td>2019</td>\n",
              "      <td>4</td>\n",
              "    </tr>\n",
              "    <tr>\n",
              "      <th>6210</th>\n",
              "      <td>80186475</td>\n",
              "      <td>TV Show</td>\n",
              "      <td>Pokémon the Series</td>\n",
              "      <td>Unknown</td>\n",
              "      <td>Sarah Natochenny, Laurie Hymes, Jessica Paquet...</td>\n",
              "      <td>Japan</td>\n",
              "      <td>2019-04-01</td>\n",
              "      <td>2019</td>\n",
              "      <td>TV-Y7-FV</td>\n",
              "      <td>2 Seasons</td>\n",
              "      <td>Anime Series, Kids' TV</td>\n",
              "      <td>Ash and his Pikachu travel to the Alola region...</td>\n",
              "      <td>2019</td>\n",
              "      <td>4</td>\n",
              "    </tr>\n",
              "    <tr>\n",
              "      <th>6211</th>\n",
              "      <td>70272742</td>\n",
              "      <td>TV Show</td>\n",
              "      <td>Justin Time</td>\n",
              "      <td>Unknown</td>\n",
              "      <td>Gage Munroe, Scott McCord, Jenna Warren</td>\n",
              "      <td>Canada</td>\n",
              "      <td>2016-04-01</td>\n",
              "      <td>2012</td>\n",
              "      <td>TV-Y</td>\n",
              "      <td>2 Seasons</td>\n",
              "      <td>Kids' TV</td>\n",
              "      <td>In Justin's dreams, he and his imaginary frien...</td>\n",
              "      <td>2016</td>\n",
              "      <td>4</td>\n",
              "    </tr>\n",
              "    <tr>\n",
              "      <th>6212</th>\n",
              "      <td>80067942</td>\n",
              "      <td>TV Show</td>\n",
              "      <td>Terrace House: Boys &amp; Girls in the City</td>\n",
              "      <td>Unknown</td>\n",
              "      <td>You, Reina Triendl, Ryota Yamasato, Yoshimi To...</td>\n",
              "      <td>Japan</td>\n",
              "      <td>2016-04-01</td>\n",
              "      <td>2016</td>\n",
              "      <td>TV-14</td>\n",
              "      <td>2 Seasons</td>\n",
              "      <td>International TV Shows, Reality TV</td>\n",
              "      <td>A new set of six men and women start their liv...</td>\n",
              "      <td>2016</td>\n",
              "      <td>4</td>\n",
              "    </tr>\n",
              "    <tr>\n",
              "      <th>6213</th>\n",
              "      <td>70136122</td>\n",
              "      <td>TV Show</td>\n",
              "      <td>Weeds</td>\n",
              "      <td>Unknown</td>\n",
              "      <td>Mary-Louise Parker, Hunter Parrish, Alexander ...</td>\n",
              "      <td>United States</td>\n",
              "      <td>2014-04-01</td>\n",
              "      <td>2012</td>\n",
              "      <td>TV-MA</td>\n",
              "      <td>8 Seasons</td>\n",
              "      <td>TV Comedies, TV Dramas</td>\n",
              "      <td>A suburban mother starts selling marijuana to ...</td>\n",
              "      <td>2014</td>\n",
              "      <td>4</td>\n",
              "    </tr>\n",
              "  </tbody>\n",
              "</table>\n",
              "<p>6214 rows × 14 columns</p>\n",
              "</div>"
            ],
            "text/plain": [
              "       show_id     type  ... year_added month_added\n",
              "0     81145628    Movie  ...       2019           9\n",
              "1     80117401    Movie  ...       2016           9\n",
              "2     70234439  TV Show  ...       2018           9\n",
              "3     80058654  TV Show  ...       2018           9\n",
              "4     80125979    Movie  ...       2017           9\n",
              "...        ...      ...  ...        ...         ...\n",
              "6209  80162994  TV Show  ...       2019           4\n",
              "6210  80186475  TV Show  ...       2019           4\n",
              "6211  70272742  TV Show  ...       2016           4\n",
              "6212  80067942  TV Show  ...       2016           4\n",
              "6213  70136122  TV Show  ...       2014           4\n",
              "\n",
              "[6214 rows x 14 columns]"
            ]
          },
          "metadata": {
            "tags": []
          },
          "execution_count": 22
        }
      ]
    },
    {
      "cell_type": "markdown",
      "metadata": {
        "id": "d-GC9kK6eads"
      },
      "source": [
        "Since we notice that the `'duration'` column has information about seasons as well as running time, analysis might get a little tricky. Hence let's make a new column called `seasons` and modify data in both the columns."
      ]
    },
    {
      "cell_type": "code",
      "metadata": {
        "id": "5y9VlPb0eZF8",
        "colab": {
          "base_uri": "https://localhost:8080/",
          "height": 1000
        },
        "outputId": "ef0fa785-4721-4092-a604-cfcc1d507f96"
      },
      "source": [
        "netflix_df['seasons'] = netflix_df.apply(lambda a: a['duration'].split(\" \")[0] if \"Season\" in a['duration'] else \"\", axis=1)\n",
        "netflix_df['duration'] = netflix_df.apply(lambda a: a['duration'].split(\" \")[0] if \"Season\" not in a['duration'] else \"\", axis=1)\n",
        "netflix_df"
      ],
      "execution_count": null,
      "outputs": [
        {
          "output_type": "execute_result",
          "data": {
            "text/html": [
              "<div>\n",
              "<style scoped>\n",
              "    .dataframe tbody tr th:only-of-type {\n",
              "        vertical-align: middle;\n",
              "    }\n",
              "\n",
              "    .dataframe tbody tr th {\n",
              "        vertical-align: top;\n",
              "    }\n",
              "\n",
              "    .dataframe thead th {\n",
              "        text-align: right;\n",
              "    }\n",
              "</style>\n",
              "<table border=\"1\" class=\"dataframe\">\n",
              "  <thead>\n",
              "    <tr style=\"text-align: right;\">\n",
              "      <th></th>\n",
              "      <th>show_id</th>\n",
              "      <th>type</th>\n",
              "      <th>title</th>\n",
              "      <th>director</th>\n",
              "      <th>cast</th>\n",
              "      <th>country</th>\n",
              "      <th>date_added</th>\n",
              "      <th>release_year</th>\n",
              "      <th>rating</th>\n",
              "      <th>duration</th>\n",
              "      <th>listed_in</th>\n",
              "      <th>description</th>\n",
              "      <th>year_added</th>\n",
              "      <th>month_added</th>\n",
              "      <th>seasons</th>\n",
              "    </tr>\n",
              "  </thead>\n",
              "  <tbody>\n",
              "    <tr>\n",
              "      <th>0</th>\n",
              "      <td>81145628</td>\n",
              "      <td>Movie</td>\n",
              "      <td>Norm of the North: King Sized Adventure</td>\n",
              "      <td>Richard Finn, Tim Maltby</td>\n",
              "      <td>Alan Marriott, Andrew Toth, Brian Dobson, Cole...</td>\n",
              "      <td>United States, India, South Korea, China</td>\n",
              "      <td>2019-09-09</td>\n",
              "      <td>2019</td>\n",
              "      <td>TV-PG</td>\n",
              "      <td>90</td>\n",
              "      <td>Children &amp; Family Movies, Comedies</td>\n",
              "      <td>Before planning an awesome wedding for his gra...</td>\n",
              "      <td>2019</td>\n",
              "      <td>9</td>\n",
              "      <td></td>\n",
              "    </tr>\n",
              "    <tr>\n",
              "      <th>1</th>\n",
              "      <td>80117401</td>\n",
              "      <td>Movie</td>\n",
              "      <td>Jandino: Whatever it Takes</td>\n",
              "      <td>Unknown</td>\n",
              "      <td>Jandino Asporaat</td>\n",
              "      <td>United Kingdom</td>\n",
              "      <td>2016-09-09</td>\n",
              "      <td>2016</td>\n",
              "      <td>TV-MA</td>\n",
              "      <td>94</td>\n",
              "      <td>Stand-Up Comedy</td>\n",
              "      <td>Jandino Asporaat riffs on the challenges of ra...</td>\n",
              "      <td>2016</td>\n",
              "      <td>9</td>\n",
              "      <td></td>\n",
              "    </tr>\n",
              "    <tr>\n",
              "      <th>2</th>\n",
              "      <td>70234439</td>\n",
              "      <td>TV Show</td>\n",
              "      <td>Transformers Prime</td>\n",
              "      <td>Unknown</td>\n",
              "      <td>Peter Cullen, Sumalee Montano, Frank Welker, J...</td>\n",
              "      <td>United States</td>\n",
              "      <td>2018-09-08</td>\n",
              "      <td>2013</td>\n",
              "      <td>TV-Y7-FV</td>\n",
              "      <td></td>\n",
              "      <td>Kids' TV</td>\n",
              "      <td>With the help of three human allies, the Autob...</td>\n",
              "      <td>2018</td>\n",
              "      <td>9</td>\n",
              "      <td>1</td>\n",
              "    </tr>\n",
              "    <tr>\n",
              "      <th>3</th>\n",
              "      <td>80058654</td>\n",
              "      <td>TV Show</td>\n",
              "      <td>Transformers: Robots in Disguise</td>\n",
              "      <td>Unknown</td>\n",
              "      <td>Will Friedle, Darren Criss, Constance Zimmer, ...</td>\n",
              "      <td>United States</td>\n",
              "      <td>2018-09-08</td>\n",
              "      <td>2016</td>\n",
              "      <td>TV-Y7</td>\n",
              "      <td></td>\n",
              "      <td>Kids' TV</td>\n",
              "      <td>When a prison ship crash unleashes hundreds of...</td>\n",
              "      <td>2018</td>\n",
              "      <td>9</td>\n",
              "      <td>1</td>\n",
              "    </tr>\n",
              "    <tr>\n",
              "      <th>4</th>\n",
              "      <td>80125979</td>\n",
              "      <td>Movie</td>\n",
              "      <td>#realityhigh</td>\n",
              "      <td>Fernando Lebrija</td>\n",
              "      <td>Nesta Cooper, Kate Walsh, John Michael Higgins...</td>\n",
              "      <td>United States</td>\n",
              "      <td>2017-09-08</td>\n",
              "      <td>2017</td>\n",
              "      <td>TV-14</td>\n",
              "      <td>99</td>\n",
              "      <td>Comedies</td>\n",
              "      <td>When nerdy high schooler Dani finally attracts...</td>\n",
              "      <td>2017</td>\n",
              "      <td>9</td>\n",
              "      <td></td>\n",
              "    </tr>\n",
              "    <tr>\n",
              "      <th>...</th>\n",
              "      <td>...</td>\n",
              "      <td>...</td>\n",
              "      <td>...</td>\n",
              "      <td>...</td>\n",
              "      <td>...</td>\n",
              "      <td>...</td>\n",
              "      <td>...</td>\n",
              "      <td>...</td>\n",
              "      <td>...</td>\n",
              "      <td>...</td>\n",
              "      <td>...</td>\n",
              "      <td>...</td>\n",
              "      <td>...</td>\n",
              "      <td>...</td>\n",
              "      <td>...</td>\n",
              "    </tr>\n",
              "    <tr>\n",
              "      <th>6209</th>\n",
              "      <td>80162994</td>\n",
              "      <td>TV Show</td>\n",
              "      <td>Talking Tom and Friends</td>\n",
              "      <td>Unknown</td>\n",
              "      <td>Colin Hanks, Tom Kenny, James Adomian, Lisa Sc...</td>\n",
              "      <td>Cyprus, Austria, Thailand</td>\n",
              "      <td>2019-04-10</td>\n",
              "      <td>2017</td>\n",
              "      <td>TV-G</td>\n",
              "      <td></td>\n",
              "      <td>Kids' TV, TV Comedies</td>\n",
              "      <td>Full of funny one-liners and always ready for ...</td>\n",
              "      <td>2019</td>\n",
              "      <td>4</td>\n",
              "      <td>2</td>\n",
              "    </tr>\n",
              "    <tr>\n",
              "      <th>6210</th>\n",
              "      <td>80186475</td>\n",
              "      <td>TV Show</td>\n",
              "      <td>Pokémon the Series</td>\n",
              "      <td>Unknown</td>\n",
              "      <td>Sarah Natochenny, Laurie Hymes, Jessica Paquet...</td>\n",
              "      <td>Japan</td>\n",
              "      <td>2019-04-01</td>\n",
              "      <td>2019</td>\n",
              "      <td>TV-Y7-FV</td>\n",
              "      <td></td>\n",
              "      <td>Anime Series, Kids' TV</td>\n",
              "      <td>Ash and his Pikachu travel to the Alola region...</td>\n",
              "      <td>2019</td>\n",
              "      <td>4</td>\n",
              "      <td>2</td>\n",
              "    </tr>\n",
              "    <tr>\n",
              "      <th>6211</th>\n",
              "      <td>70272742</td>\n",
              "      <td>TV Show</td>\n",
              "      <td>Justin Time</td>\n",
              "      <td>Unknown</td>\n",
              "      <td>Gage Munroe, Scott McCord, Jenna Warren</td>\n",
              "      <td>Canada</td>\n",
              "      <td>2016-04-01</td>\n",
              "      <td>2012</td>\n",
              "      <td>TV-Y</td>\n",
              "      <td></td>\n",
              "      <td>Kids' TV</td>\n",
              "      <td>In Justin's dreams, he and his imaginary frien...</td>\n",
              "      <td>2016</td>\n",
              "      <td>4</td>\n",
              "      <td>2</td>\n",
              "    </tr>\n",
              "    <tr>\n",
              "      <th>6212</th>\n",
              "      <td>80067942</td>\n",
              "      <td>TV Show</td>\n",
              "      <td>Terrace House: Boys &amp; Girls in the City</td>\n",
              "      <td>Unknown</td>\n",
              "      <td>You, Reina Triendl, Ryota Yamasato, Yoshimi To...</td>\n",
              "      <td>Japan</td>\n",
              "      <td>2016-04-01</td>\n",
              "      <td>2016</td>\n",
              "      <td>TV-14</td>\n",
              "      <td></td>\n",
              "      <td>International TV Shows, Reality TV</td>\n",
              "      <td>A new set of six men and women start their liv...</td>\n",
              "      <td>2016</td>\n",
              "      <td>4</td>\n",
              "      <td>2</td>\n",
              "    </tr>\n",
              "    <tr>\n",
              "      <th>6213</th>\n",
              "      <td>70136122</td>\n",
              "      <td>TV Show</td>\n",
              "      <td>Weeds</td>\n",
              "      <td>Unknown</td>\n",
              "      <td>Mary-Louise Parker, Hunter Parrish, Alexander ...</td>\n",
              "      <td>United States</td>\n",
              "      <td>2014-04-01</td>\n",
              "      <td>2012</td>\n",
              "      <td>TV-MA</td>\n",
              "      <td></td>\n",
              "      <td>TV Comedies, TV Dramas</td>\n",
              "      <td>A suburban mother starts selling marijuana to ...</td>\n",
              "      <td>2014</td>\n",
              "      <td>4</td>\n",
              "      <td>8</td>\n",
              "    </tr>\n",
              "  </tbody>\n",
              "</table>\n",
              "<p>6214 rows × 15 columns</p>\n",
              "</div>"
            ],
            "text/plain": [
              "       show_id     type  ... month_added seasons\n",
              "0     81145628    Movie  ...           9        \n",
              "1     80117401    Movie  ...           9        \n",
              "2     70234439  TV Show  ...           9       1\n",
              "3     80058654  TV Show  ...           9       1\n",
              "4     80125979    Movie  ...           9        \n",
              "...        ...      ...  ...         ...     ...\n",
              "6209  80162994  TV Show  ...           4       2\n",
              "6210  80186475  TV Show  ...           4       2\n",
              "6211  70272742  TV Show  ...           4       2\n",
              "6212  80067942  TV Show  ...           4       2\n",
              "6213  70136122  TV Show  ...           4       8\n",
              "\n",
              "[6214 rows x 15 columns]"
            ]
          },
          "metadata": {
            "tags": []
          },
          "execution_count": 23
        }
      ]
    },
    {
      "cell_type": "markdown",
      "metadata": {
        "id": "mrmOhXvxFS5b"
      },
      "source": [
        "Now our data is clean enough to perform our analysis. "
      ]
    },
    {
      "cell_type": "markdown",
      "metadata": {
        "id": "wIClOLO9Q76R"
      },
      "source": [
        "## Exploratory Analysis and Visualization\n",
        "\n",
        "Visualisation gives us a better idea of facts and figures from the datasets. This is where Plots and graphs come into the picture. Plots have a better visual appeal than deriving data from tables and are more insightful.\n",
        "\n",
        "We will be using the Python libraries `Seaborn` and `Matplotlib` for plotting. Let's import these libraries...\n",
        "\n"
      ]
    },
    {
      "cell_type": "markdown",
      "metadata": {
        "id": "Hs-9FdOTQ76U"
      },
      "source": [
        "Let's begin by importing`matplotlib.pyplot` and `seaborn`."
      ]
    },
    {
      "cell_type": "code",
      "metadata": {
        "id": "x_4UzhgpQ76V"
      },
      "source": [
        "import seaborn as sns\n",
        "import matplotlib\n",
        "import matplotlib.pyplot as plt\n",
        "%matplotlib inline\n",
        "\n",
        "sns.set_style('darkgrid')\n",
        "matplotlib.rcParams['font.size'] = 14\n",
        "matplotlib.rcParams['figure.figsize'] = (9, 5)\n",
        "matplotlib.rcParams['figure.facecolor'] = '#00000000'"
      ],
      "execution_count": null,
      "outputs": []
    },
    {
      "cell_type": "markdown",
      "metadata": {
        "id": "hmUiLzW_wvJO"
      },
      "source": [
        "Let's check out some interesting statistics about the database. We'll use the .`describe()` function for the same."
      ]
    },
    {
      "cell_type": "code",
      "metadata": {
        "id": "s9yKkPMiwutB",
        "colab": {
          "base_uri": "https://localhost:8080/",
          "height": 297
        },
        "outputId": "14e8e7fa-358a-4513-efad-034da7b87d82"
      },
      "source": [
        "netflix_df.describe()"
      ],
      "execution_count": null,
      "outputs": [
        {
          "output_type": "execute_result",
          "data": {
            "text/html": [
              "<div>\n",
              "<style scoped>\n",
              "    .dataframe tbody tr th:only-of-type {\n",
              "        vertical-align: middle;\n",
              "    }\n",
              "\n",
              "    .dataframe tbody tr th {\n",
              "        vertical-align: top;\n",
              "    }\n",
              "\n",
              "    .dataframe thead th {\n",
              "        text-align: right;\n",
              "    }\n",
              "</style>\n",
              "<table border=\"1\" class=\"dataframe\">\n",
              "  <thead>\n",
              "    <tr style=\"text-align: right;\">\n",
              "      <th></th>\n",
              "      <th>show_id</th>\n",
              "      <th>release_year</th>\n",
              "      <th>year_added</th>\n",
              "      <th>month_added</th>\n",
              "    </tr>\n",
              "  </thead>\n",
              "  <tbody>\n",
              "    <tr>\n",
              "      <th>count</th>\n",
              "      <td>6.214000e+03</td>\n",
              "      <td>6214.000000</td>\n",
              "      <td>6214.000000</td>\n",
              "      <td>6214.000000</td>\n",
              "    </tr>\n",
              "    <tr>\n",
              "      <th>mean</th>\n",
              "      <td>7.670547e+07</td>\n",
              "      <td>2013.360315</td>\n",
              "      <td>2017.985678</td>\n",
              "      <td>6.837303</td>\n",
              "    </tr>\n",
              "    <tr>\n",
              "      <th>std</th>\n",
              "      <td>1.095708e+07</td>\n",
              "      <td>8.822610</td>\n",
              "      <td>1.203549</td>\n",
              "      <td>3.620820</td>\n",
              "    </tr>\n",
              "    <tr>\n",
              "      <th>min</th>\n",
              "      <td>2.477470e+05</td>\n",
              "      <td>1925.000000</td>\n",
              "      <td>2008.000000</td>\n",
              "      <td>1.000000</td>\n",
              "    </tr>\n",
              "    <tr>\n",
              "      <th>25%</th>\n",
              "      <td>8.003642e+07</td>\n",
              "      <td>2013.000000</td>\n",
              "      <td>2017.000000</td>\n",
              "      <td>4.000000</td>\n",
              "    </tr>\n",
              "    <tr>\n",
              "      <th>50%</th>\n",
              "      <td>8.016396e+07</td>\n",
              "      <td>2016.000000</td>\n",
              "      <td>2018.000000</td>\n",
              "      <td>7.000000</td>\n",
              "    </tr>\n",
              "    <tr>\n",
              "      <th>75%</th>\n",
              "      <td>8.024503e+07</td>\n",
              "      <td>2018.000000</td>\n",
              "      <td>2019.000000</td>\n",
              "      <td>10.000000</td>\n",
              "    </tr>\n",
              "    <tr>\n",
              "      <th>max</th>\n",
              "      <td>8.123573e+07</td>\n",
              "      <td>2020.000000</td>\n",
              "      <td>2020.000000</td>\n",
              "      <td>12.000000</td>\n",
              "    </tr>\n",
              "  </tbody>\n",
              "</table>\n",
              "</div>"
            ],
            "text/plain": [
              "            show_id  release_year   year_added  month_added\n",
              "count  6.214000e+03   6214.000000  6214.000000  6214.000000\n",
              "mean   7.670547e+07   2013.360315  2017.985678     6.837303\n",
              "std    1.095708e+07      8.822610     1.203549     3.620820\n",
              "min    2.477470e+05   1925.000000  2008.000000     1.000000\n",
              "25%    8.003642e+07   2013.000000  2017.000000     4.000000\n",
              "50%    8.016396e+07   2016.000000  2018.000000     7.000000\n",
              "75%    8.024503e+07   2018.000000  2019.000000    10.000000\n",
              "max    8.123573e+07   2020.000000  2020.000000    12.000000"
            ]
          },
          "metadata": {
            "tags": []
          },
          "execution_count": 27
        }
      ]
    },
    {
      "cell_type": "markdown",
      "metadata": {
        "id": "iEh5u5kWy64H"
      },
      "source": [
        "The `.describe()` function is very informative. But some of it's information may be irrelevant to us. For example, consider the `show_id` column. The *count* and *mean* of those values aren't conveying necessary information for our analysis as these are just random numbers alloted to a movie. Let's consider the other columns.\n",
        "\n",
        "We get an idea of:\n",
        "* the range of release dates of the Movies/TV shows (1925-2020)\n",
        "* range of years of addition of Movies/TV shows (2008-2020)\n",
        "* standard deviation in these figures\n",
        "\n",
        "and more.."
      ]
    },
    {
      "cell_type": "markdown",
      "metadata": {
        "id": "3VheYKhyQ76f"
      },
      "source": [
        "###**Movies v/s TV shows** \n",
        "\n",
        "Let's see how the number of Movies line up against that of TV Shows..."
      ]
    },
    {
      "cell_type": "code",
      "metadata": {
        "id": "N1CeQv9YQ76g",
        "colab": {
          "base_uri": "https://localhost:8080/",
          "height": 323
        },
        "outputId": "0d806c19-f6de-474e-cadb-ba1608c5f28b"
      },
      "source": [
        "plt.title(\"Movies v/s TV Shows\")\n",
        "plt.pie(netflix_df.type.value_counts(), explode=(0.03,0.03), labels=netflix_df.type.value_counts().index,autopct='%1.1f%%', colors=['crimson','lightseagreen'], startangle=90);\n",
        "plt.legend(bbox_to_anchor=(1.6,1.1))\n",
        "plt.show()"
      ],
      "execution_count": null,
      "outputs": [
        {
          "output_type": "display_data",
          "data": {
            "image/png": "[encoded data removed]",
            "text/plain": [
              "<Figure size 648x360 with 1 Axes>"
            ]
          },
          "metadata": {
            "tags": []
          }
        }
      ]
    },
    {
      "cell_type": "markdown",
      "metadata": {
        "id": "hAl6kFZglekF"
      },
      "source": [
        "The above pie chart gave us a percentage distribution of Movies and TV shows on the platform. We can get a better idea about the numbers using a countplot. We'll use `seaborn's` `.countplot()` function for the same."
      ]
    },
    {
      "cell_type": "code",
      "metadata": {
        "id": "H0UuyIt2Q76r",
        "colab": {
          "base_uri": "https://localhost:8080/",
          "height": 416
        },
        "outputId": "021871d4-1766-465b-d166-efb8d32a738f"
      },
      "source": [
        "sns.countplot(netflix_df.type,palette=\"flare\");\n",
        "plt.title(\"Movies v/s TV Shows\")\n",
        "plt.xlabel(\"Category\")\n",
        "plt.ylabel(\"Count\")\n",
        "plt.show()"
      ],
      "execution_count": null,
      "outputs": [
        {
          "output_type": "stream",
          "text": [
            "/usr/local/lib/python3.6/dist-packages/seaborn/_decorators.py:43: FutureWarning: Pass the following variable as a keyword arg: x. From version 0.12, the only valid positional argument will be `data`, and passing other arguments without an explicit keyword will result in an error or misinterpretation.\n",
            "  FutureWarning\n"
          ],
          "name": "stderr"
        },
        {
          "output_type": "display_data",
          "data": {
            "image/png": "[encoded data removed]",
            "text/plain": [
              "<Figure size 648x360 with 1 Axes>"
            ]
          },
          "metadata": {
            "tags": [],
            "needs_background": "light"
          }
        }
      ]
    },
    {
      "cell_type": "markdown",
      "metadata": {
        "id": "DmYdObVCnyXx"
      },
      "source": [
        "From the above plots we can understand that the number of Movies on Netflix is more than twice as that of TV Shows."
      ]
    },
    {
      "cell_type": "markdown",
      "metadata": {
        "id": "5HZADyl5Q761"
      },
      "source": [
        "###**Countries** \n",
        "\n",
        "Let's look at the Top 25 countries with the most content on Netflix. We'll use a barplot for the same."
      ]
    },
    {
      "cell_type": "markdown",
      "metadata": {
        "id": "I73pqmHB6lag"
      },
      "source": [
        "If we observe, value *'Unknown'* is present as an entry in the `country` column, which we don't want. Also, United states (and many other countries too) are recurring in the rest of the entries in the `country` column. Hence we need to make a series that counts and stores the count of every entry of a country.\n",
        "\n",
        "We can exclude the *'Unknown'* label and use the `.split()` function to split the individual country names and `.stack()` function to make a new dataframe."
      ]
    },
    {
      "cell_type": "code",
      "metadata": {
        "id": "0VqH93dmQ77E",
        "colab": {
          "base_uri": "https://localhost:8080/",
          "height": 796
        },
        "outputId": "6b2b31be-2dad-4504-c45b-2b8cb52fa2d2"
      },
      "source": [
        "countries = netflix_df.set_index('title').country.str.split(', ', expand=True).stack()\n",
        "#drop the 2nd index\n",
        "countries = countries.reset_index(level=1, drop=True)\n",
        "countries = countries[countries != 'Unknown']\n",
        "\n",
        "plt.figure(figsize=(12,12))\n",
        "sns.barplot(countries.value_counts().head(25),countries.value_counts().head(25).index, palette=\"cool\")\n",
        "plt.title(\"Top 25 Content Generators\");\n",
        "plt.xlabel('Content Count');\n",
        "\n",
        "\n"
      ],
      "execution_count": null,
      "outputs": [
        {
          "output_type": "stream",
          "text": [
            "/usr/local/lib/python3.6/dist-packages/seaborn/_decorators.py:43: FutureWarning: Pass the following variables as keyword args: x, y. From version 0.12, the only valid positional argument will be `data`, and passing other arguments without an explicit keyword will result in an error or misinterpretation.\n",
            "  FutureWarning\n"
          ],
          "name": "stderr"
        },
        {
          "output_type": "display_data",
          "data": {
            "image/png": "[encoded data removed]",
            "text/plain": [
              "<Figure size 864x864 with 1 Axes>"
            ]
          },
          "metadata": {
            "tags": [],
            "needs_background": "light"
          }
        }
      ]
    },
    {
      "cell_type": "code",
      "metadata": {
        "id": "VmDOftz4DQzQ",
        "colab": {
          "base_uri": "https://localhost:8080/",
          "height": 221
        },
        "outputId": "b5638eaf-9000-4aa1-9af0-57614dee2da9"
      },
      "source": [
        "countries.value_counts()"
      ],
      "execution_count": null,
      "outputs": [
        {
          "output_type": "execute_result",
          "data": {
            "text/plain": [
              "United States     2600\n",
              "India              838\n",
              "United Kingdom     600\n",
              "Canada             318\n",
              "France             271\n",
              "                  ... \n",
              "Syria                1\n",
              "Ecuador              1\n",
              "East Germany         1\n",
              "Botswana             1\n",
              "Liechtenstein        1\n",
              "Length: 113, dtype: int64"
            ]
          },
          "metadata": {
            "tags": []
          },
          "execution_count": 32
        }
      ]
    },
    {
      "cell_type": "markdown",
      "metadata": {
        "id": "ZPI40-DcEYJg"
      },
      "source": [
        "As seen above, most of the content on Netflix originates in The **United States**. **India** and The **United Kingdom** lag behind by a huge margin."
      ]
    },
    {
      "cell_type": "markdown",
      "metadata": {
        "id": "wjiTaqzmQ77J"
      },
      "source": [
        "###**Release years**\n",
        "\n",
        "Let's see the distribution of release years of Movies and TV Shows on Netflix."
      ]
    },
    {
      "cell_type": "code",
      "metadata": {
        "id": "NQYFKxkn-WBc",
        "colab": {
          "base_uri": "https://localhost:8080/",
          "height": 170
        },
        "outputId": "db0009d2-8ebb-4d3c-9d90-3566ed50c8ae"
      },
      "source": [
        "netflix_df.release_year.value_counts().head(8)"
      ],
      "execution_count": null,
      "outputs": [
        {
          "output_type": "execute_result",
          "data": {
            "text/plain": [
              "2018    1062\n",
              "2017     957\n",
              "2019     843\n",
              "2016     828\n",
              "2015     510\n",
              "2014     288\n",
              "2013     235\n",
              "2012     182\n",
              "Name: release_year, dtype: int64"
            ]
          },
          "metadata": {
            "tags": []
          },
          "execution_count": 33
        }
      ]
    },
    {
      "cell_type": "code",
      "metadata": {
        "id": "uAPF3XUuQ77K",
        "colab": {
          "base_uri": "https://localhost:8080/",
          "height": 1000
        },
        "outputId": "384a1f67-5516-4968-8407-0b8ca5b5dbab"
      },
      "source": [
        "plt.figure(figsize=(15,20))\n",
        "plt.hist(netflix_df[netflix_df.type=='Movie'].release_year, alpha=0.6, color='indigo',bins=100)\n",
        "plt.hist(netflix_df[netflix_df.type=='TV Show'].release_year,alpha =0.6, color='cyan',bins=100)\n",
        "plt.xlabel('Release year')\n",
        "plt.title(\"Distribution of Release Years\")\n",
        "plt.ylabel('Count')\n",
        "plt.legend(['Movie','TV Show'])  \n",
        "plt.show();"
      ],
      "execution_count": null,
      "outputs": [
        {
          "output_type": "display_data",
          "data": {
            "image/png": "[encoded data removed]",
            "text/plain": [
              "<Figure size 1080x1440 with 1 Axes>"
            ]
          },
          "metadata": {
            "tags": [],
            "needs_background": "light"
          }
        }
      ]
    },
    {
      "cell_type": "markdown",
      "metadata": {
        "id": "hEFgtMZJ8ngT"
      },
      "source": [
        "The plot conveys that a vast **majority** of the Movies/TV Shows on the platfom are those released between the timespan of around **2015-2020**. There are very few Movies and TV Shows on Netflix that belonging to the timeframe of 1940-2000.  "
      ]
    },
    {
      "cell_type": "markdown",
      "metadata": {
        "id": "1Fj14J6uQ77Y"
      },
      "source": [
        "###**Ratings** \n",
        "\n",
        "Let's see how ratings of Movies and TV Shows on Netflix compare with each other. We'll use a countplot for the same."
      ]
    },
    {
      "cell_type": "code",
      "metadata": {
        "id": "1qRCuSVvQ77Z",
        "colab": {
          "base_uri": "https://localhost:8080/",
          "height": 579
        },
        "outputId": "26093f58-2dfa-4686-a82b-67183b124933"
      },
      "source": [
        "plt.figure(figsize=(16,8))\n",
        "sns.countplot('rating',data=netflix_df, hue='type',palette='viridis' )\n",
        "plt.xlabel('Rating')\n",
        "plt.ylabel('Count')\n",
        "plt.legend(['Movie','TV Show'])\n",
        "plt.title('Movie and TV Show Ratings')\n",
        "plt.show();"
      ],
      "execution_count": null,
      "outputs": [
        {
          "output_type": "stream",
          "text": [
            "/usr/local/lib/python3.6/dist-packages/seaborn/_decorators.py:43: FutureWarning: Pass the following variable as a keyword arg: x. From version 0.12, the only valid positional argument will be `data`, and passing other arguments without an explicit keyword will result in an error or misinterpretation.\n",
            "  FutureWarning\n"
          ],
          "name": "stderr"
        },
        {
          "output_type": "display_data",
          "data": {
            "image/png": "[encoded data removed]",
            "text/plain": [
              "<Figure size 1152x576 with 1 Axes>"
            ]
          },
          "metadata": {
            "tags": [],
            "needs_background": "light"
          }
        }
      ]
    },
    {
      "cell_type": "markdown",
      "metadata": {
        "id": "v9xXZEpbunGc"
      },
      "source": [
        "As seen above, **TV-MA**, **TV-14**, and **TV-PG** are the Top 3 ratings in both Movie and TV Shows categories. TV Shows of certain ratings like **G**, **PG**, **R** aren't present. The graph gives an idea of the count of the number of shows with a particular kind of rating."
      ]
    },
    {
      "cell_type": "markdown",
      "metadata": {
        "id": "c4-r2mOpQ77p"
      },
      "source": [
        "###**Duration** \n",
        "\n",
        "Let's check the distribution of duration of Movies on Netflix. We'll use `seaborn`'s `distplot` for the same."
      ]
    },
    {
      "cell_type": "code",
      "metadata": {
        "id": "pD2vOoIKQ77s",
        "colab": {
          "base_uri": "https://localhost:8080/",
          "height": 579
        },
        "outputId": "ddf74c3f-fd04-4b3d-ac37-e88cf8d9e608"
      },
      "source": [
        "duration = netflix_df[netflix_df.duration != '']['duration']\n",
        "duration\n",
        "\n",
        "fig, ax = plt.subplots()\n",
        "fig.set_size_inches(16, 8)\n",
        "sns.distplot(duration, ax=ax,color='indianred')\n",
        "plt.xlabel('Movie Duration')\n",
        "ax.set_xlim(0,300)\n",
        "ax.set_xticks(np.arange(0,300,10))\n",
        "plt.title('Movie Duration Distribution')\n",
        "plt.show();\n"
      ],
      "execution_count": null,
      "outputs": [
        {
          "output_type": "stream",
          "text": [
            "/usr/local/lib/python3.6/dist-packages/seaborn/distributions.py:2551: FutureWarning: `distplot` is a deprecated function and will be removed in a future version. Please adapt your code to use either `displot` (a figure-level function with similar flexibility) or `histplot` (an axes-level function for histograms).\n",
            "  warnings.warn(msg, FutureWarning)\n"
          ],
          "name": "stderr"
        },
        {
          "output_type": "display_data",
          "data": {
            "image/png": "[encoded data removed]",
            "text/plain": [
              "<Figure size 1152x576 with 1 Axes>"
            ]
          },
          "metadata": {
            "tags": [],
            "needs_background": "light"
          }
        }
      ]
    },
    {
      "cell_type": "markdown",
      "metadata": {
        "id": "BGlzX-YqVrWK"
      },
      "source": [
        "As we see above, most of the Movies have a duration of around **90-100** minutes. A vast majority of the movies have a duration in the range (80,120)"
      ]
    },
    {
      "cell_type": "markdown",
      "metadata": {
        "id": "sSk_WZEUQ78J"
      },
      "source": [
        "## Asking and Answering Questions\n",
        "\n",
        "Let's try asking some interesting questions about the chosen dataset and finding answers for the same. \n",
        "\n",
        "We might need to make comparisons between Movies and TV Shows. So making separate datasets for both will be convenient. \n"
      ]
    },
    {
      "cell_type": "code",
      "metadata": {
        "id": "ApTSUV91Znuz",
        "colab": {
          "base_uri": "https://localhost:8080/",
          "height": 1000
        },
        "outputId": "53bb313b-df52-4b96-ba08-c2e219a99ddf"
      },
      "source": [
        "movies_df = netflix_df[netflix_df['type']=='Movie'].copy()\n",
        "movies_df = movies_df.reset_index(drop=True)\n",
        "shows_df = netflix_df[netflix_df['type']=='TV Show'].copy()\n",
        "shows_df = shows_df.reset_index(drop=True)\n",
        "movies_df.head(10)\n",
        "shows_df.head(10)"
      ],
      "execution_count": null,
      "outputs": [
        {
          "output_type": "execute_result",
          "data": {
            "text/html": [
              "<div>\n",
              "<style scoped>\n",
              "    .dataframe tbody tr th:only-of-type {\n",
              "        vertical-align: middle;\n",
              "    }\n",
              "\n",
              "    .dataframe tbody tr th {\n",
              "        vertical-align: top;\n",
              "    }\n",
              "\n",
              "    .dataframe thead th {\n",
              "        text-align: right;\n",
              "    }\n",
              "</style>\n",
              "<table border=\"1\" class=\"dataframe\">\n",
              "  <thead>\n",
              "    <tr style=\"text-align: right;\">\n",
              "      <th></th>\n",
              "      <th>show_id</th>\n",
              "      <th>type</th>\n",
              "      <th>title</th>\n",
              "      <th>director</th>\n",
              "      <th>cast</th>\n",
              "      <th>country</th>\n",
              "      <th>date_added</th>\n",
              "      <th>release_year</th>\n",
              "      <th>rating</th>\n",
              "      <th>duration</th>\n",
              "      <th>listed_in</th>\n",
              "      <th>description</th>\n",
              "      <th>year_added</th>\n",
              "      <th>month_added</th>\n",
              "      <th>seasons</th>\n",
              "    </tr>\n",
              "  </thead>\n",
              "  <tbody>\n",
              "    <tr>\n",
              "      <th>0</th>\n",
              "      <td>70234439</td>\n",
              "      <td>TV Show</td>\n",
              "      <td>Transformers Prime</td>\n",
              "      <td>Unknown</td>\n",
              "      <td>Peter Cullen, Sumalee Montano, Frank Welker, J...</td>\n",
              "      <td>United States</td>\n",
              "      <td>2018-09-08</td>\n",
              "      <td>2013</td>\n",
              "      <td>TV-Y7-FV</td>\n",
              "      <td></td>\n",
              "      <td>Kids' TV</td>\n",
              "      <td>With the help of three human allies, the Autob...</td>\n",
              "      <td>2018</td>\n",
              "      <td>9</td>\n",
              "      <td>1</td>\n",
              "    </tr>\n",
              "    <tr>\n",
              "      <th>1</th>\n",
              "      <td>80058654</td>\n",
              "      <td>TV Show</td>\n",
              "      <td>Transformers: Robots in Disguise</td>\n",
              "      <td>Unknown</td>\n",
              "      <td>Will Friedle, Darren Criss, Constance Zimmer, ...</td>\n",
              "      <td>United States</td>\n",
              "      <td>2018-09-08</td>\n",
              "      <td>2016</td>\n",
              "      <td>TV-Y7</td>\n",
              "      <td></td>\n",
              "      <td>Kids' TV</td>\n",
              "      <td>When a prison ship crash unleashes hundreds of...</td>\n",
              "      <td>2018</td>\n",
              "      <td>9</td>\n",
              "      <td>1</td>\n",
              "    </tr>\n",
              "    <tr>\n",
              "      <th>2</th>\n",
              "      <td>80163890</td>\n",
              "      <td>TV Show</td>\n",
              "      <td>Apaches</td>\n",
              "      <td>Unknown</td>\n",
              "      <td>Alberto Ammann, Eloy Azorín, Verónica Echegui,...</td>\n",
              "      <td>Spain</td>\n",
              "      <td>2017-09-08</td>\n",
              "      <td>2016</td>\n",
              "      <td>TV-MA</td>\n",
              "      <td></td>\n",
              "      <td>Crime TV Shows, International TV Shows, Spanis...</td>\n",
              "      <td>A young journalist is forced into a life of cr...</td>\n",
              "      <td>2017</td>\n",
              "      <td>9</td>\n",
              "      <td>1</td>\n",
              "    </tr>\n",
              "    <tr>\n",
              "      <th>3</th>\n",
              "      <td>80117902</td>\n",
              "      <td>TV Show</td>\n",
              "      <td>Fire Chasers</td>\n",
              "      <td>Unknown</td>\n",
              "      <td>Unknown</td>\n",
              "      <td>United States</td>\n",
              "      <td>2017-09-08</td>\n",
              "      <td>2017</td>\n",
              "      <td>TV-MA</td>\n",
              "      <td></td>\n",
              "      <td>Docuseries, Science &amp; Nature TV</td>\n",
              "      <td>As California's 2016 fire season rages, brave ...</td>\n",
              "      <td>2017</td>\n",
              "      <td>9</td>\n",
              "      <td>1</td>\n",
              "    </tr>\n",
              "    <tr>\n",
              "      <th>4</th>\n",
              "      <td>80244601</td>\n",
              "      <td>TV Show</td>\n",
              "      <td>Castle of Stars</td>\n",
              "      <td>Unknown</td>\n",
              "      <td>Chaiyapol Pupart, Jintanutda Lummakanon, Worra...</td>\n",
              "      <td>Unknown</td>\n",
              "      <td>2018-09-07</td>\n",
              "      <td>2015</td>\n",
              "      <td>TV-14</td>\n",
              "      <td></td>\n",
              "      <td>International TV Shows, Romantic TV Shows, TV ...</td>\n",
              "      <td>As four couples with different lifestyles go t...</td>\n",
              "      <td>2018</td>\n",
              "      <td>9</td>\n",
              "      <td>1</td>\n",
              "    </tr>\n",
              "    <tr>\n",
              "      <th>5</th>\n",
              "      <td>80190843</td>\n",
              "      <td>TV Show</td>\n",
              "      <td>First and Last</td>\n",
              "      <td>Unknown</td>\n",
              "      <td>Unknown</td>\n",
              "      <td>Unknown</td>\n",
              "      <td>2018-09-07</td>\n",
              "      <td>2018</td>\n",
              "      <td>TV-MA</td>\n",
              "      <td></td>\n",
              "      <td>Docuseries</td>\n",
              "      <td>Take an intimate look at the emotionally charg...</td>\n",
              "      <td>2018</td>\n",
              "      <td>9</td>\n",
              "      <td>1</td>\n",
              "    </tr>\n",
              "    <tr>\n",
              "      <th>6</th>\n",
              "      <td>80221550</td>\n",
              "      <td>TV Show</td>\n",
              "      <td>Archibald's Next Big Thing</td>\n",
              "      <td>Unknown</td>\n",
              "      <td>Tony Hale, Rosamund Pike, Jordan Fisher, Chels...</td>\n",
              "      <td>Unknown</td>\n",
              "      <td>2019-09-06</td>\n",
              "      <td>2019</td>\n",
              "      <td>TV-Y7</td>\n",
              "      <td></td>\n",
              "      <td>Kids' TV, TV Comedies</td>\n",
              "      <td>Happy-go-lucky chicken Archibald may not remem...</td>\n",
              "      <td>2019</td>\n",
              "      <td>9</td>\n",
              "      <td>1</td>\n",
              "    </tr>\n",
              "    <tr>\n",
              "      <th>7</th>\n",
              "      <td>80178151</td>\n",
              "      <td>TV Show</td>\n",
              "      <td>The Spy</td>\n",
              "      <td>Unknown</td>\n",
              "      <td>Sacha Baron Cohen, Noah Emmerich, Hadar Ratzon...</td>\n",
              "      <td>France</td>\n",
              "      <td>2019-09-06</td>\n",
              "      <td>2019</td>\n",
              "      <td>TV-MA</td>\n",
              "      <td></td>\n",
              "      <td>International TV Shows, TV Dramas, TV Thrillers</td>\n",
              "      <td>In the 1960s, Israeli clerk-turned-secret agen...</td>\n",
              "      <td>2019</td>\n",
              "      <td>9</td>\n",
              "      <td>1</td>\n",
              "    </tr>\n",
              "    <tr>\n",
              "      <th>8</th>\n",
              "      <td>80113482</td>\n",
              "      <td>TV Show</td>\n",
              "      <td>No Tomorrow</td>\n",
              "      <td>Unknown</td>\n",
              "      <td>Joshua Sasse, Tori Anderson, Jonathan Langdon,...</td>\n",
              "      <td>United States</td>\n",
              "      <td>2017-09-05</td>\n",
              "      <td>2016</td>\n",
              "      <td>TV-14</td>\n",
              "      <td></td>\n",
              "      <td>Romantic TV Shows, TV Comedies, TV Dramas</td>\n",
              "      <td>Her straitjacketed life turned topsy-turvy by ...</td>\n",
              "      <td>2017</td>\n",
              "      <td>9</td>\n",
              "      <td>1</td>\n",
              "    </tr>\n",
              "    <tr>\n",
              "      <th>9</th>\n",
              "      <td>80113641</td>\n",
              "      <td>TV Show</td>\n",
              "      <td>Frequency</td>\n",
              "      <td>Unknown</td>\n",
              "      <td>Peyton List, Riley Smith, Mekhi Phifer, Devin ...</td>\n",
              "      <td>United States</td>\n",
              "      <td>2017-09-04</td>\n",
              "      <td>2016</td>\n",
              "      <td>TV-14</td>\n",
              "      <td></td>\n",
              "      <td>Crime TV Shows, TV Dramas, TV Mysteries</td>\n",
              "      <td>A detective seizes a precious opportunity to c...</td>\n",
              "      <td>2017</td>\n",
              "      <td>9</td>\n",
              "      <td>1</td>\n",
              "    </tr>\n",
              "  </tbody>\n",
              "</table>\n",
              "</div>"
            ],
            "text/plain": [
              "    show_id     type  ... month_added seasons\n",
              "0  70234439  TV Show  ...           9       1\n",
              "1  80058654  TV Show  ...           9       1\n",
              "2  80163890  TV Show  ...           9       1\n",
              "3  80117902  TV Show  ...           9       1\n",
              "4  80244601  TV Show  ...           9       1\n",
              "5  80190843  TV Show  ...           9       1\n",
              "6  80221550  TV Show  ...           9       1\n",
              "7  80178151  TV Show  ...           9       1\n",
              "8  80113482  TV Show  ...           9       1\n",
              "9  80113641  TV Show  ...           9       1\n",
              "\n",
              "[10 rows x 15 columns]"
            ]
          },
          "metadata": {
            "tags": []
          },
          "execution_count": 103
        }
      ]
    },
    {
      "cell_type": "markdown",
      "metadata": {
        "id": "Ar7x0jjPZBKH"
      },
      "source": [
        "Now that we have made designated dataframes, let's get to answering some questions based on the dataset."
      ]
    },
    {
      "cell_type": "markdown",
      "metadata": {
        "id": "lawYH-dAQ78P"
      },
      "source": [
        "#### Q1: What is the trend in Movie and TV show content growth on Netflix over the years?"
      ]
    },
    {
      "cell_type": "markdown",
      "metadata": {
        "id": "_Jk67pArVM49"
      },
      "source": [
        "As we all know, more and more content is getting uplaoded on the platform with every passing year. To get an idea of how exactly the trend is, we'll use a heatmap with month and year added as parameters. "
      ]
    },
    {
      "cell_type": "code",
      "metadata": {
        "id": "s7SxONQFQ78S",
        "colab": {
          "base_uri": "https://localhost:8080/",
          "height": 438
        },
        "outputId": "d861b531-d015-4dd9-dea7-7c137e2204bb"
      },
      "source": [
        "movies_added = movies_df.groupby('month_added')['year_added'].value_counts()\n",
        "movies_added = movies_added.unstack()#.T\n",
        "#fill Nan with 0\n",
        "movies_added = movies_added.fillna(0)\n",
        "movies_added\n",
        "\n",
        "series_added = shows_df.groupby('month_added')['year_added'].value_counts()\n",
        "series_added = series_added.unstack()#.T\n",
        "#fill Nan with 0\n",
        "series_added = series_added.fillna(0)\n",
        "series_added\n",
        "\n",
        "#trend in Movies\n",
        "fig, axes = plt.subplots(1, 2, figsize=(20,6))\n",
        "\n",
        "axes[0].set_title('Movie Upload Trend on Netflix')\n",
        "sns.heatmap(movies_added,cmap='rocket_r', ax=axes[0])\n",
        "axes[0].set_xlabel('Year of Addition')\n",
        "axes[0].set_ylabel('Month of Addition')\n",
        "\n",
        "\n",
        "#trend in TV Shows\n",
        "axes[1].set_title('TV Show Upload Trend on Netflix')\n",
        "sns.heatmap(series_added,cmap='PuRd')\n",
        "axes[1].set_xlabel('Year of Addition')\n",
        "axes[1].set_ylabel('Month of Addition')\n",
        "plt.show();\n",
        "\n"
      ],
      "execution_count": null,
      "outputs": [
        {
          "output_type": "display_data",
          "data": {
            "image/png": "[encoded data removed]",
            "text/plain": [
              "<Figure size 1440x432 with 4 Axes>"
            ]
          },
          "metadata": {
            "tags": [],
            "needs_background": "light"
          }
        }
      ]
    },
    {
      "cell_type": "markdown",
      "metadata": {
        "id": "qDFBNxu-7-Y3"
      },
      "source": [
        "As seen from the above graphs, we notice that the amount of content (Movies and TV Shows) being added onto the platform goes on increasing with every year, of course the numbers in both cases vary.The trend in Month of upload seems to be a bit more random compared to year of upload.\n",
        "\n",
        "Note that the data used shows trends till the start of 2020, hence zero uplaods being noted post January. Projecting the above trend to continue over a few years in the future, we can expect the content to increase even more in the upcoming years with more and more people shifitng to OTTs to satisfy their entertainment needs. "
      ]
    },
    {
      "cell_type": "markdown",
      "metadata": {
        "id": "TT8TJ3BGQ78o"
      },
      "source": [
        "#### Q2:Who are the Top 10 Directors under Movies and TV Shows featured on Netflix (based on number of shows) ?"
      ]
    },
    {
      "cell_type": "code",
      "metadata": {
        "id": "2O7vqPMjQ78p",
        "colab": {
          "base_uri": "https://localhost:8080/",
          "height": 391
        },
        "outputId": "3200e810-f53f-4062-d32a-cf5e8ec0ced4"
      },
      "source": [
        "#filter out director entires with value 'Unknown'\n",
        "directors_movies = movies_df[movies_df.director != 'Unknown'].set_index('title')    \n",
        "#since the numerical index keeps repeating we set the index to the movie title\n",
        "directors_movies = directors_movies.director.str.split(', ', expand=True).stack().reset_index(level=1, drop=True)\n",
        "directors_movies.head(20)\n",
        "\n",
        "directors_shows = shows_df[shows_df.director != 'Unknown'].set_index('title')    \n",
        "#since the numerical index keeps repeating we set the index to the show title\n",
        "directors_shows = directors_shows.director.str.split(', ', expand=True).stack().reset_index(level=1, drop=True)\n",
        "directors_shows.head(20)\n"
      ],
      "execution_count": null,
      "outputs": [
        {
          "output_type": "execute_result",
          "data": {
            "text/plain": [
              "title\n",
              "Criminal: Spain                                           Mariano Barroso\n",
              "The Hockey Girls                                       Kiko Cruz Claverol\n",
              "The Hockey Girls                                            Patricia Font\n",
              "The Five                                                    Mark Tonderai\n",
              "Age of Rebellion                                                 Peter Ho\n",
              "Nowhere Man                                                       DJ Chen\n",
              "Bring It On, Ghost                                          Park Joon-hwa\n",
              "Black Money Love                                           Ahmet Katıksız\n",
              "Harry & Bunnie                                                   Ah Loong\n",
              "FIGHTWORLD                                               Padraic McKinley\n",
              "The Blue Planet: A Natural History of the Oceans      Alastair Fothergill\n",
              "Cheese in the Trap                                          Lee Yoon-jung\n",
              "Kingdoms of the Sky                                       Steve Greenwood\n",
              "Old Money                                                   David Schalko\n",
              "Akulah Balqis                                                  Pali Yahya\n",
              "Bright: The Music Videos                                       David Ayer\n",
              "Oliver Stone's Untold History of the United States           Oliver Stone\n",
              "The Beginning of Life: The Series                           Estela Renner\n",
              "Crime Diaries: Night Out                                      Felipe Cano\n",
              "American Experience: The Circus                           Sharon Grimberg\n",
              "dtype: object"
            ]
          },
          "metadata": {
            "tags": []
          },
          "execution_count": 74
        }
      ]
    },
    {
      "cell_type": "markdown",
      "metadata": {
        "id": "TOkXjsJATms9"
      },
      "source": [
        "Let's use a countplot to arrange directors in order of their number of shows."
      ]
    },
    {
      "cell_type": "code",
      "metadata": {
        "id": "5J2uGIpsQ78w",
        "colab": {
          "base_uri": "https://localhost:8080/",
          "height": 431
        },
        "outputId": "1f5be5d6-a8da-4222-c6ad-fe3ac56ee799"
      },
      "source": [
        "fig, axes = plt.subplots(1, 2, figsize=(28,7))\n",
        "\n",
        "#top 10 featured directors in Movies\n",
        "axes[0].set_xlabel('Movie Count')\n",
        "axes[0].set_ylabel('Director')\n",
        "axes[0].set_title('Top 10 Movie Directors')\n",
        "sns.barplot(directors_movies.value_counts().head(10), directors_movies.value_counts().head(10).index,palette='inferno', ax=axes[0]);\n",
        "\n",
        "\n",
        "#Top 10 featured directors in TV Shows\n",
        "axes[1].set_xlabel('Show Count')\n",
        "axes[1].set_title('Top 10 TV Show Directors')\n",
        "sns.barplot(directors_shows.value_counts().head(10), directors_shows.value_counts().head(10).index,palette='viridis', ax=axes[1]);\n",
        "plt.show();\n"
      ],
      "execution_count": null,
      "outputs": [
        {
          "output_type": "stream",
          "text": [
            "/usr/local/lib/python3.6/dist-packages/seaborn/_decorators.py:43: FutureWarning: Pass the following variables as keyword args: x, y. From version 0.12, the only valid positional argument will be `data`, and passing other arguments without an explicit keyword will result in an error or misinterpretation.\n",
            "  FutureWarning\n",
            "/usr/local/lib/python3.6/dist-packages/seaborn/_decorators.py:43: FutureWarning: Pass the following variables as keyword args: x, y. From version 0.12, the only valid positional argument will be `data`, and passing other arguments without an explicit keyword will result in an error or misinterpretation.\n",
            "  FutureWarning\n"
          ],
          "name": "stderr"
        },
        {
          "output_type": "display_data",
          "data": {
            "image/png": "[encoded data removed]",
            "text/plain": [
              "<Figure size 2016x504 with 2 Axes>"
            ]
          },
          "metadata": {
            "tags": [],
            "needs_background": "light"
          }
        }
      ]
    },
    {
      "cell_type": "markdown",
      "metadata": {
        "id": "aP0CwTQtvnKF"
      },
      "source": [
        "The above mentioned are the top 10 Directors in Movies and TV Shows respectively. "
      ]
    },
    {
      "cell_type": "markdown",
      "metadata": {
        "id": "VIozTkGxQ79E"
      },
      "source": [
        "#### Q3: Who are the Top 20 Actors featured on Netflix (based on number of shows) ?"
      ]
    },
    {
      "cell_type": "code",
      "metadata": {
        "id": "FfLL8eVnQ79G",
        "colab": {
          "base_uri": "https://localhost:8080/",
          "height": 391
        },
        "outputId": "77f59bc9-7a13-4560-8a11-a86225d7091b"
      },
      "source": [
        "#filter out cast entires with value 'Unknown'\n",
        "cast_movies = movies_df[movies_df.cast != 'Unknown'].set_index('title')    \n",
        "#since the numerical index keeps repeating we set the index to the movie title\n",
        "cast_movies = cast_movies.cast.str.split(', ', expand=True).stack().reset_index(level=1, drop=True)\n",
        "cast_movies.head(20)\n",
        "\n",
        "cast_shows = shows_df[shows_df.cast != 'Unknown'].set_index('title')    \n",
        "#since the numerical index keeps repeating we set the index to the show title\n",
        "cast_shows = cast_shows.cast.str.split(', ', expand=True).stack().reset_index(level=1, drop=True)\n",
        "cast_shows.head(20)"
      ],
      "execution_count": null,
      "outputs": [
        {
          "output_type": "execute_result",
          "data": {
            "text/plain": [
              "title\n",
              "Transformers Prime                              Peter Cullen\n",
              "Transformers Prime                           Sumalee Montano\n",
              "Transformers Prime                              Frank Welker\n",
              "Transformers Prime                             Jeffrey Combs\n",
              "Transformers Prime                  Kevin Michael Richardson\n",
              "Transformers Prime                              Tania Gunadi\n",
              "Transformers Prime                               Josh Keaton\n",
              "Transformers Prime                                Steve Blum\n",
              "Transformers Prime                               Andy Pessoa\n",
              "Transformers Prime                              Ernie Hudson\n",
              "Transformers Prime                              Daran Norris\n",
              "Transformers Prime                              Will Friedle\n",
              "Transformers: Robots in Disguise                Will Friedle\n",
              "Transformers: Robots in Disguise                Darren Criss\n",
              "Transformers: Robots in Disguise            Constance Zimmer\n",
              "Transformers: Robots in Disguise                Khary Payton\n",
              "Transformers: Robots in Disguise          Mitchell Whitfield\n",
              "Transformers: Robots in Disguise                Stuart Allan\n",
              "Transformers: Robots in Disguise                Ted McGinley\n",
              "Transformers: Robots in Disguise                Peter Cullen\n",
              "dtype: object"
            ]
          },
          "metadata": {
            "tags": []
          },
          "execution_count": 124
        }
      ]
    },
    {
      "cell_type": "code",
      "metadata": {
        "id": "ylJ4r0qSQ79V",
        "colab": {
          "base_uri": "https://localhost:8080/",
          "height": 810
        },
        "outputId": "c195534e-66fc-484a-c226-31502aba78d6"
      },
      "source": [
        "fig, axes = plt.subplots(1, 2, figsize=(25,15))\n",
        "\n",
        "#top 10 featured directors in Movies\n",
        "axes[0].set_xlabel('Movie Count')\n",
        "axes[0].set_ylabel('Cast')\n",
        "axes[0].set_title('Top 20 Casted Actors in Movies')\n",
        "sns.barplot(cast_movies.value_counts().head(20), cast_movies.value_counts().head(20).index,palette='mako', ax=axes[0]);\n",
        "\n",
        "\n",
        "#Top 10 featured directors in TV Shows\n",
        "axes[1].set_xlabel('Show Count')\n",
        "axes[1].set_title('Top 20 Casted Actors in TV Shows')\n",
        "sns.barplot(cast_shows.value_counts().head(20), cast_shows.value_counts().head(20).index,palette='summer', ax=axes[1]);\n",
        "plt.show();"
      ],
      "execution_count": null,
      "outputs": [
        {
          "output_type": "stream",
          "text": [
            "/usr/local/lib/python3.6/dist-packages/seaborn/_decorators.py:43: FutureWarning: Pass the following variables as keyword args: x, y. From version 0.12, the only valid positional argument will be `data`, and passing other arguments without an explicit keyword will result in an error or misinterpretation.\n",
            "  FutureWarning\n",
            "/usr/local/lib/python3.6/dist-packages/seaborn/_decorators.py:43: FutureWarning: Pass the following variables as keyword args: x, y. From version 0.12, the only valid positional argument will be `data`, and passing other arguments without an explicit keyword will result in an error or misinterpretation.\n",
            "  FutureWarning\n"
          ],
          "name": "stderr"
        },
        {
          "output_type": "display_data",
          "data": {
            "image/png": "[encoded data removed]",
            "text/plain": [
              "<Figure size 1800x1080 with 2 Axes>"
            ]
          },
          "metadata": {
            "tags": [],
            "needs_background": "light"
          }
        }
      ]
    },
    {
      "cell_type": "markdown",
      "metadata": {
        "id": "Hd3g3kkNyASC"
      },
      "source": [
        "The above mentioned are the top 20 Actors in Movies and TV Shows respectively. "
      ]
    },
    {
      "cell_type": "markdown",
      "metadata": {
        "id": "ssRu-BfWQ79r"
      },
      "source": [
        "#### Q4: Which are the most Popular Movie and TV Genres on Netflix?"
      ]
    },
    {
      "cell_type": "code",
      "metadata": {
        "id": "WpDOGEJTQ79s",
        "colab": {
          "base_uri": "https://localhost:8080/",
          "height": 391
        },
        "outputId": "7f672b1d-f863-4517-dc52-3320f9a1e4d7"
      },
      "source": [
        "#filter out cast entires with value 'Unknown'\n",
        "genre_movies = movies_df.set_index('title')    \n",
        "#since the numerical index keeps repeating we set the index to the movie title\n",
        "genre_movies = genre_movies.listed_in.str.split(', ', expand=True).stack().reset_index(level=1, drop=True)\n",
        "genre_movies.head(20)\n",
        "\n",
        "genre_shows = shows_df[shows_df.cast != 'Unknown'].set_index('title')    \n",
        "#since the numerical index keeps repeating we set the index to the show title\n",
        "genre_shows = genre_shows.listed_in.str.split(', ', expand=True).stack().reset_index(level=1, drop=True)\n",
        "genre_shows.head(20)"
      ],
      "execution_count": null,
      "outputs": [
        {
          "output_type": "execute_result",
          "data": {
            "text/plain": [
              "title\n",
              "Transformers Prime                                   Kids' TV\n",
              "Transformers: Robots in Disguise                     Kids' TV\n",
              "Apaches                                        Crime TV Shows\n",
              "Apaches                                International TV Shows\n",
              "Apaches                             Spanish-Language TV Shows\n",
              "Castle of Stars                        International TV Shows\n",
              "Castle of Stars                             Romantic TV Shows\n",
              "Castle of Stars                                   TV Comedies\n",
              "Archibald's Next Big Thing                           Kids' TV\n",
              "Archibald's Next Big Thing                        TV Comedies\n",
              "The Spy                                International TV Shows\n",
              "The Spy                                             TV Dramas\n",
              "The Spy                                          TV Thrillers\n",
              "No Tomorrow                                 Romantic TV Shows\n",
              "No Tomorrow                                       TV Comedies\n",
              "No Tomorrow                                         TV Dramas\n",
              "Frequency                                      Crime TV Shows\n",
              "Frequency                                           TV Dramas\n",
              "Frequency                                        TV Mysteries\n",
              "Adam Ruins Everything                             TV Comedies\n",
              "dtype: object"
            ]
          },
          "metadata": {
            "tags": []
          },
          "execution_count": 123
        }
      ]
    },
    {
      "cell_type": "code",
      "metadata": {
        "id": "Cl8VDEOBQ79y",
        "colab": {
          "base_uri": "https://localhost:8080/",
          "height": 772
        },
        "outputId": "f9fcc6fd-b332-4fe8-bfd9-e81b67439e21"
      },
      "source": [
        "fig, axes = plt.subplots(1, 2, figsize=(28,16))\n",
        "\n",
        "#top 10 featured directors in Movies\n",
        "axes[0].set_xlabel('Movie Count')\n",
        "axes[0].set_title('Top 20 Genres in Movies')\n",
        "sns.barplot(genre_movies.value_counts().head(20), genre_movies.value_counts().head(20).index,palette='winter', ax=axes[0]);\n",
        "\n",
        "\n",
        "#Top 10 featured directors in TV Shows\n",
        "axes[1].set_xlabel('Show Count')\n",
        "axes[1].set_title('Top 20 Genres in TV Shows')\n",
        "sns.barplot(genre_shows.value_counts().head(20), genre_shows.value_counts().head(20).index,palette='cool', ax=axes[1]);\n",
        "plt.show();"
      ],
      "execution_count": null,
      "outputs": [
        {
          "output_type": "stream",
          "text": [
            "/usr/local/lib/python3.6/dist-packages/seaborn/_decorators.py:43: FutureWarning: Pass the following variables as keyword args: x, y. From version 0.12, the only valid positional argument will be `data`, and passing other arguments without an explicit keyword will result in an error or misinterpretation.\n",
            "  FutureWarning\n",
            "/usr/local/lib/python3.6/dist-packages/seaborn/_decorators.py:43: FutureWarning: Pass the following variables as keyword args: x, y. From version 0.12, the only valid positional argument will be `data`, and passing other arguments without an explicit keyword will result in an error or misinterpretation.\n",
            "  FutureWarning\n"
          ],
          "name": "stderr"
        },
        {
          "output_type": "display_data",
          "data": {
            "image/png": "[encoded data removed]",
            "text/plain": [
              "<Figure size 2016x1152 with 2 Axes>"
            ]
          },
          "metadata": {
            "tags": [],
            "needs_background": "light"
          }
        }
      ]
    },
    {
      "cell_type": "markdown",
      "metadata": {
        "id": "fcQLP73LFn4m"
      },
      "source": [
        "As seen above, the genres **International**, **Drama** and **Comedy** are the top 3 in both Movies and TV Shows. Post these, the statistics differ. "
      ]
    },
    {
      "cell_type": "markdown",
      "metadata": {
        "id": "P8e5iyXcQ7-H"
      },
      "source": [
        "#### Q5: Analyse the growth of American Movies and TV Shows on Netflix over the years."
      ]
    },
    {
      "cell_type": "code",
      "metadata": {
        "id": "AayYrQbpQ7-I",
        "colab": {
          "base_uri": "https://localhost:8080/",
          "height": 634
        },
        "outputId": "1da5a706-0367-42c8-8741-dca7a2840219"
      },
      "source": [
        "us_mov_df = movies_df[movies_df['country'].str.contains('United States')]\n",
        "us_mov_year = us_mov_df['year_added'].value_counts().to_frame()\n",
        "us_mov_year = us_mov_year.reset_index().rename(columns={'index': 'year','year_added':'count'})\n",
        "#since we dont have data for the entire year of 2020 we'll drop it's entry\n",
        "us_mov_year = us_mov_year[us_mov_year.year != 2020]\n",
        "us_mov_year=us_mov_year.sort_values(by='year').reset_index().drop('index',axis=1)\n",
        "us_mov_year\n",
        "\n",
        "us_tv_df = shows_df[shows_df['country'].str.contains('United States')]\n",
        "us_tv_year = us_tv_df['year_added'].value_counts().to_frame()\n",
        "us_tv_year = us_tv_year.reset_index().rename(columns={'index': 'year','year_added':'count'})\n",
        "#since we dont have data for the entire year of 2020 we'll drop it's entry\n",
        "us_tv_year = us_tv_year[us_tv_year.year != 2020]\n",
        "us_tv_year=us_tv_year.sort_values(by='year').reset_index().drop('index',axis=1)\n",
        "us_tv_year\n",
        "\n",
        "plt.figure(figsize=(12,10))\n",
        "plt.xlabel('Year')\n",
        "plt.ylabel('Count')\n",
        "plt.title('Growth of American Movies and TV Shows')\n",
        "plt.plot(us_mov_year.year,us_mov_year['count'], color='teal')\n",
        "plt.plot(us_tv_year.year,us_tv_year['count'],color='indigo')\n",
        "plt.legend(['American Movies','American TV Shows']);"
      ],
      "execution_count": null,
      "outputs": [
        {
          "output_type": "display_data",
          "data": {
            "image/png": "[encoded data removed]",
            "text/plain": [
              "<Figure size 864x720 with 1 Axes>"
            ]
          },
          "metadata": {
            "tags": [],
            "needs_background": "light"
          }
        }
      ]
    },
    {
      "cell_type": "markdown",
      "metadata": {
        "id": "JK_fOHxMveQE"
      },
      "source": [
        "As we see above, the number of both, Movies as well as TV Shows, are **increasing** over the years. THe increase was gradual till around 2015 but became exponential since 2015.\n",
        "\n",
        " A similar growth can be projected to future years considering the current shift to OTT platforms. We can expect content from all over the World to increase in count on the platform."
      ]
    },
    {
      "cell_type": "markdown",
      "metadata": {
        "id": "vNxRAMnDQ7-9"
      },
      "source": [
        "## Inferences and Conclusion\n",
        "\n",
        "\n",
        "\n",
        "*   Netflix as one of the most popular OTT platforms, is showing exponential growth in it's content over the years\n",
        "*   More that half the content (**68.5%**) on Netflix comprises of **Movies**. The rest of the content are TV Shows.\n",
        "* The United States, India, Canada, France and Japan are the top contributers of Netflix content.\n",
        "* A vast majority of content available on Netflix belong to recent years\n",
        "* **TV-MA**, **TV-14**, and **TV-PG** are the Top 3 ratings in both Movie and TV Shows categories\n",
        "*  A vast majority of the movies have a duration between 80 to 120 minutes\n",
        "*  The genres **International**, **Drama** and **Comedy** are the top 3 in both Movies and TV Shows.\n",
        "\n",
        "In the upcoming years, we can definitely expect a growth in Netflix's content, contetn from different countries and the Number of TV Shows to increase in perventage compared to current figures. We can also expect new genres, ratings, directors and cast to come into the limelight.\n",
        "\n"
      ]
    },
    {
      "cell_type": "markdown",
      "metadata": {
        "id": "1GQtlaZ4Q7_Q"
      },
      "source": [
        "## References and Future Work\n",
        "\n",
        "\n",
        "\n",
        "\n",
        "\n",
        "Here are some of the resources i found useful for this project\n",
        "\n",
        "*  [Data Analysis with Python: Zero to Pandas\n",
        "](https://jovian.ml/learn/data-analysis-with-python-zero-to-pandas) \n",
        "*   [ Visualization with Matplotlib and Seaborn\n",
        "](https://jovian.ml/learn/data-analysis-with-python-zero-to-pandas/lesson/lesson-5-data-visualization-with-matplotlib-and-seaborn)\n",
        "* [Exploratory Data Analysis - A Case Study\n",
        "](https://jovian.ml/learn/data-analysis-with-python-zero-to-pandas/lesson/lesson-6-exploratory-data-analysis-a-case-study)\n",
        "* https://www.kaggle.com/shivamb/netflix-shows\n",
        "* https://matplotlib.org/3.3.2/tutorials/index.html\n",
        "* https://seaborn.pydata.org/tutorial.html\n",
        "* https://pandas.pydata.org/docs/user_guide/index.html\n",
        "\n",
        "This data is very informative and can be constantly updated with more recent information in order to expand the timeframe of our analysis. A **Movie/TV Show Recommendation analysis** could be a future project.\n",
        "\n"
      ]
    }
  ]
}